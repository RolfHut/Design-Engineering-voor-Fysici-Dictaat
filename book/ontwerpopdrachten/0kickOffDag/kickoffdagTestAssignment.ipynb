{
 "cells": [
  {
   "cell_type": "markdown",
   "metadata": {
    "nbgrader": {
     "grade": false,
     "locked": true,
     "solution": false
    }
   },
   "source": [
    "# DEF Kick off dag: test notebook\n",
    "Dit notebook is bedoeld om te testen of Vocareum, inclusief de functies die we bij DEF gebruiken, goed werken. Lees de instructies in de volgende cellen goed en voer deze uit. Als je helemaal klaar bent, klik je eerst op ```kernel --> restart & run all``` hierboven. Als je hele notebook doorgerekend is, lever je deze in door op ```submit``` te klikken.\n",
    "\n",
    "Je kan altijd je notebook tijdelijk opslaan (save icoon of ```file --> save```). Je kan ook tussendoor submitten, maar doe dit niet te vaak: het belast de server en de verbinding van jou en alle anderen die met het vak bezig zijn kan vertraagd worden als te veel mensen tegelijk hun werk submitten. \n"
   ]
  },
  {
   "cell_type": "markdown",
   "metadata": {},
   "source": [
    "## Persoonlijke informatie en grafiek\n",
    "\n",
    "In deze eerste cel vul je jouw naam en studienummer in. Je kan een tekst-cel aanpassen door erop te dubbelklikken. Je ziet de tekst dan in ```markdown```: dat is een computertaal die gebruikt wordt om teksten op te maken (vergelijkbaar, maar niet helemaal, zoals $\\LaTeX$). Je kan, zoals je hiervoor ziet, ook $\\LaTeX$ gebruiken door je code tussen dollar tekens te zetten. Als je meer over markdown wilt leren: [google](https://www.google.com/search?q=markdown).\n",
    "\n",
    "Als je klaar bent met editen zet je de tekst terug naar mooi opgemaakte tekst door op ```Cell --> run cells``` te klikken, of op het play icoontje, of door de toetsencombinate shift-enter te gebruiken. (Tip: er zijn nog meer handige toetsencombinaties)\n",
    "\n",
    "### Opdracht\n",
    "Vervang in onderstaande tabel ```student naam 1``` door jouw naam en ```student studienummer 1``` door jouw studienummer. Vervang vervolgens de gegeven formule door jouw favoriete natuurkundige formule en vervang ook de tekst eronder zodat deze bij jouw formule klopt.\n",
    "\n",
    "\n",
    "| naam          | studienummer |\n",
    "| :-------------|:-------------|\n",
    "| Student naam 1| Student Studienummer 1 |\n",
    "\n",
    "Favoriete natuurkundige formule:\n",
    "\n",
    "$R = \\sqrt[3]{GM\\left(\\frac{T}{2\\pi}\\right)^{2}}$\n",
    "\n",
    "Dit is de formule voor de geostationaire baan van een willekeurig hemellichaam waarbij \n",
    "\n",
    "- $R$ de geostationaire hoogte t.o.v. het massa zwaartepunt (bij de planeet aarde: de straal ten opzichte van het midden van de aarde.)\n",
    "- $G$ de zwaartekrachtconstante\n",
    "- $M$ de massa waar omheen gedraaid wordt (bijvoorbeeld dus de massa van de aarde)\n",
    "- $T$ de omlooptijd van de massa (bij de aarde dus 24 uur)\n",
    "- $\\pi$ ongeveer drie\n",
    "\n",
    "is.\n"
   ]
  },
  {
   "cell_type": "markdown",
   "metadata": {
    "nbgrader": {
     "grade": false,
     "locked": true,
     "solution": false
    }
   },
   "source": [
    "## Foto's Uploaden\n",
    "Het zal bij DEF regelmatig gebeuren dat je een foto moet uploaden binnen jouw notebook. Je gaat namelijk dingen maken en we willen dat je vastlegt wat je gemaakt hebt.\n",
    "\n",
    "Tijdens het introductiecollege vanochtend heb je als het goed is een foto van jouw LEGO eendje gemaakt. Die gaan we uploaden. Zet eerst de foto van jouw telefoon op jouw computer. Hoe dat gaat zal afhangen van jouw computer en telefoon. Waarschuwing: als je de foto via Whatsapp verstuurt naar jezelf zal deze gecomprimeerd (kleiner gemaakt) worden. Dat hoeft geen probleem te zijn, maar soms gaat daardoor detail verloren. Om de foto in Vocareum beschikbaar te maken moet je volgende stappen doorlopen:\n",
    "\n",
    "- Klik op het jupyter logo hierboven. Hierdoor krijg je de ```map``` te zien waar dit notebook in staat, plus een paar andere bestanden.\n",
    "- Klik op ```upload``` en selecteer jouw foto. \n",
    "- Als het fotobestand een lange naam heeft, is dat lastig. Verander de naam in iets korts en logisch door eerst op het vinkje naast de foto te klikken en vervolgens op ```rename```. Voer een goede naam in.\n",
    "- Klik daarna op het notebook (er zou in het groen ```running``` bij moeten staan). Je komt dan terug in dit notebook. Omdat de foto nu in dezelfde map staat als dit notebook kan je daar direct naar verwijzen. Vervang in onderstaande cel de bestandsnaam van het TU Delft logo met de bestandsnaam van de foto van je eendje.\n",
    "\n"
   ]
  },
  {
   "cell_type": "markdown",
   "metadata": {},
   "source": [
    "### Opdracht : Voeg hier een foto van jouw eendje in.\n",
    "Upload de afbeelding in vocareum en verander hieronder de naam van de file.\n",
    " ![Alt](TU_P2_rgb.png \"Eend\")"
   ]
  },
  {
   "cell_type": "markdown",
   "metadata": {
    "nbgrader": {
     "grade": false,
     "locked": true,
     "solution": false
    }
   },
   "source": [
    "## Berekening en grafiek maken\n",
    "Vaak zal je bij DEF berekeningen nodig hebben tijdens jouw ontwerp: hoe groot kan iets maximaal worden? Bij welke spanning is mijn apparaat nog veilig? Hieronder staat een (Python) tabel met meetgegevens van een electrische afstand meter. Dit apparaat meet de afstand tussen twee punten en geeft een voltage als output. De onzekerheid van de voltage-meting is $0.1$ Volt en de onzekerheid in de afstand is vijf procent van de gemeten waarde.\n",
    "\n",
    "### Opdracht\n",
    "In onderstaande python cell staan de bovengenoemde meetgegevens. Voeg Python code toe om een grafiek te plotten. Gebruik daarbij alles wat je over correct plotten van grafieken geleerd hebt bij het natuurkundig practicum (denk hierbij aan correcte labels op de assen, correcte type as, legenda, onzekerheid laten zien, etc.) Voeg ook een 'best fit' lijn toe."
   ]
  },
  {
   "cell_type": "code",
   "execution_count": null,
   "metadata": {
    "collapsed": true
   },
   "outputs": [],
   "source": [
    "#importeren van numpy en matplotlib library\n",
    "%matplotlib inline\n",
    "import numpy as np\n",
    "import matplotlib.pyplot as plt\n",
    "\n",
    "#meetgegevens: afstand in millimeter, spanning in Volt\n",
    "afstand = np.array([0.01,0.02,0.05,0.1,0.2,0.5,1.0,2.0,5.0]) \n",
    "spanning = np.array([2.01868928,4.01442631,5.99586649,7.91166258,9.96850493,11.96229652\n",
    "                     ,14.1133456,15.93947672,18.04932637])\n",
    "\n",
    "## vul hieronder je eigen code aan om de grafiek te maken. Vergeet niet ook de onzekerheid en de fit!\n"
   ]
  },
  {
   "cell_type": "markdown",
   "metadata": {
    "nbgrader": {
     "grade": false,
     "locked": true,
     "solution": false
    }
   },
   "source": [
    "## Inleveren\n",
    "Controleer eerst nog goed of alles klopt. **Klik boven op Kernel -> Restart and Run all en check of er geen errors zijn**. Zorg dat alle benodigde bestanden zijn geupload in vocareum en dat de afbeeldingen zichtbaar zijn in het notebook. \n",
    "\n",
    "Als je helemaal klaar bent kan het notebook worden ingeleverd door bovenaan op **submit** te klikken. Je kan meerdere keren iets inleveren en alleen de laatste versie wordt bewaard. Na de deadline is het niet meer mogelijk om in te leveren.\n"
   ]
  },
  {
   "cell_type": "markdown",
   "metadata": {
    "nbgrader": {
     "grade": false,
     "locked": true,
     "solution": false
    }
   },
   "source": []
  }
 ],
 "metadata": {
  "kernelspec": {
   "display_name": "Python 3 (ipykernel)",
   "language": "python",
   "name": "python3"
  },
  "language_info": {
   "codemirror_mode": {
    "name": "ipython",
    "version": 3
   },
   "file_extension": ".py",
   "mimetype": "text/x-python",
   "name": "python",
   "nbconvert_exporter": "python",
   "pygments_lexer": "ipython3",
   "version": "3.5.2"
  }
 },
 "nbformat": 4,
 "nbformat_minor": 2
}
