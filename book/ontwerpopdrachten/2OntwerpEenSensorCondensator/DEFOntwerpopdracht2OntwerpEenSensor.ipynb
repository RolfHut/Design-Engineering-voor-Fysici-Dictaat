{
 "cells": [
  {
   "cell_type": "markdown",
   "metadata": {
    "nbgrader": {
     "grade": false,
     "locked": true,
     "solution": false
    }
   },
   "source": [
    "# DEF ontwerpopdracht 2 Ontwerp een Sensor\n",
    "Vandaag ga je een sensor maken op basis van verandering van capaciteit. Wat de sensor gaat meten mag je als groep zelf beslissen. Aan het einde van de dag moet je een (filmpje van een) werkende sensor laten zien en (in dit notebook) een kalibratiegrafiek inleveren. \n",
    "\n",
    "\n",
    "### Groep vormen\n",
    "Deze opdracht doe je in groepen van 3 studenten. Je kan jouw groepsnummer en jouw medestudenten vinden op Brightspace onder Groups: ontwerpopdracht 2: ontwerp een sensor. Als eerste moet je je voorstellen aan jouw teamgenoten en zeker weten dat je met de juiste studenten aan de juiste tafel zit. Vervolgens ga je naar het juiste (deze dus) notebook in Vocareum en geef je met de knop 'Send Invite' je groepsgenoten aan zodat jullie gezamelijk in dezelfde notebook kunnen werken. Uiteindelijk lever je dit notebook als groep in via vocareum door op submit te klikken.\n",
    "\n",
    "Als je groep om 10.50 niet compleet is, trek dan aan de bel door je TA erbij te roepen. Wij komen dan kijken wie er mist en schuiven met studenten in incomplete groepen om jullie in volledige groepen te krijgen."
   ]
  },
  {
   "cell_type": "markdown",
   "metadata": {},
   "source": [
    "### Groep informatie\n",
    "\n",
    "Aan het einde van deze ontwerpopdracht lever je als groep één gezamenlijk notebook in (zowel notebook als pdf versie). Zet jullie groepsnummer, studienummers en namen in onderstaande tabel zodat wij zeker weten dat het groepsvormen goed is gegaan.\n",
    "\n",
    "| Groep: XX     |  |\n",
    "| :-------------|:-------------|\n",
    "| Student naam 1| Student Studienummer 1 |\n",
    "| Student naam 2| Student Studienummer 2 |\n",
    "| Student naam 3| Student Studienummer 3 |"
   ]
  },
  {
   "cell_type": "markdown",
   "metadata": {
    "nbgrader": {
     "grade": false,
     "locked": true,
     "solution": false
    }
   },
   "source": [
    "# Leerdoelen\n",
    "\n",
    "De leerdoelen voor vandaag zijn (deze lijst komt uit de studiehandleiding):\n",
    "\n",
    "1. Kennis hebben van gedrag van elektrische componenten en meetopstellingen.\n",
    "2. Het kunnen gebruiken van de eigenschappen van een elektrische component in een ontwerpproces om een fysische grootheid te meten. \n",
    "3. Onderdelen van een datasheet zoals een kalibratiegrafiek (= grafiek op basis van testmetingen met een fit, die aangeeft welke waarde een sensor voor een bepaalde concentratie of temperatuur meet) opstellen, gevoeligheid en onzekerheid beschrijven.\n",
    "\n",
    "\n",
    "In tegenstelling tot vorige week geven we deze week niet expliciet aan welke cellen bij welke leerdoelen horen. Aan het einde van de dag kies je zelf welke cellen volgens jullie laat zien dat jullie bovenstaande leerdoelen onder de knie hebben."
   ]
  },
  {
   "cell_type": "markdown",
   "metadata": {
    "nbgrader": {
     "grade": false,
     "locked": true,
     "solution": false
    }
   },
   "source": [
    "### Caddy controleren op inhoud!\n",
    "Je gaat vandaag werken met de apparatuur in de caddy die bij je tafel staat. Aan het einde van de dag controleert je TA of alles netjes in de caddy zit. Als er spullen missen hebben we een probleem! Controleer daarom voor je begint of alles in de caddy zit. Er ligt een lijst met wat er in zou moeten zitten bovenop je caddy. \n",
    "\n",
    "**Als je dingen mist, of als je dingen te veel hebt, geef je dat direct aan bij je TA.**"
   ]
  },
  {
   "cell_type": "markdown",
   "metadata": {
    "nbgrader": {
     "grade": false,
     "locked": true,
     "solution": false
    }
   },
   "source": [
    "### Samenwerken\n",
    "Overleg bij alles wat je in het notebook invult met je team: wat je inlevert is van jullie alle drie. Je zal dus goed moeten samenwerken. Jullie hebben allemaal als het goed is het hele notebook doorgelezen. Maak nu samen een planning waarin je aangeeft\n",
    "\n",
    "- hoe laat je bij de mijlpalen verwacht te zijn. Als je een mijlpaal niet haalt omdat je vast zit is het een goed idee om een TA om hulp te vragen\n",
    "- Op welke tijden je als team je pauzes neemt: plan deze in! continue werken is niet effectief)\n",
    "\n",
    "Vul onderstaande tabel in (en eventueel aan als je meer regels nodig hebt). **Laat de planning aan je TA zien, die tekent dit af!** De planning moet uiterlijk om **11.15** binnen zijn."
   ]
  },
  {
   "cell_type": "markdown",
   "metadata": {},
   "source": [
    "| Planning Groep: XX     |Tijdstip / Tijdspanne  |\n",
    "|---|---|\n",
    "| Mijlpaal 1 | Tijdstip |\n",
    "| Mijlpaal 2 | Tijdstip |\n",
    "| groep aanwezig 1| Tijdspanne |\n",
    "| groep aanwezig 2| Tijdspanne |\n",
    "| Pauze 1| Tijdspanne |\n",
    "| Pauze 2| Tijdspanne |"
   ]
  },
  {
   "cell_type": "markdown",
   "metadata": {
    "nbgrader": {
     "grade": false,
     "locked": true,
     "solution": false
    }
   },
   "source": [
    "Hieronder begint de opdracht. Jullie keuzes in de ontwerpcyclus kunnen betekenen dat je hieronder zelf cellen toevoegd of verwijderd. Dat is prima, zolang je ons maar laat zien welke ontwerpstappen je genomen hebt.\n",
    "\n",
    "## Zo veel mogelijk laptops weg \n",
    "Als je het hele notebook nagelezen hebt en nu op dit punt bent weet je wat je (dus) moet gaan doen. Je hebt voorlopig je laptop niet nodig, dus doe je laptops weg zodat je als groep samen op de volgende stappen kan focussen en niet individueel op jullie schermen zitten. "
   ]
  },
  {
   "cell_type": "markdown",
   "metadata": {
    "nbgrader": {
     "grade": false,
     "locked": true,
     "solution": false
    }
   },
   "source": [
    "## Voorbereiding: Sanity checks\n",
    "Om zeker te weten dat al je apparatuur werkt doe je eerst een paar controles. Op Brightspace staat een powerpoint met een handleiding voor deze drie sanity checks. Deze handleiding ligt ook geprint op tafel.\n",
    "\n",
    "### Sanity check 1: apparatuur in orde? \n",
    "Sluit de functiegenerator aan op de scope. Zie slides 1 tot en met 6 van de handleiding. Zet op de generator een 100 kHz, 16 Vpp (Volt peak-peak) golf en laat aan je TA zien dat je deze op de scope goed in beeld krijgt. Let op de assen, klopt het echt? **Je TA tekent dit af.**\n",
    "\n",
    "### Sanity check 2: bekende condensator meten \n",
    "Je gaat berekenen wat de capaciteit van je referentie-condensator is. Gebruik hierbij het volgende\n",
    "\n",
    "- $ V_{in} $ is een sinusvormig signaal met een amplitude van 8 V (16 Vpp) en een frequentie van 100 kHz\n",
    "- De stroom door een condensator gegeven wordt door $I = C\\frac{dV}{dt}$\n",
    "- De stroom niet direct gemeten wordt, maar we met behulp van een shunt-weerstand van $1 k\\Omega$ deze stroom omzetten in een voltage dat we meten.\n",
    "\n",
    "Leidt hiermee twee formules af: eentje waarmee je de capaciteit van de condensator bepaald wanneer je $V_{out}$ gemeten hebt en eentje andersom: waarmee je $V_{out}$ voorspelt als je de capaciteit weet. \n",
    "\n",
    "Als je beide formules hebt, dan sluit je vervolgens het plankje aan zoals uitgelegd in de handleiding, slides 6 tot en met 13. Als alle draden goed aangesloten zijn schroef je de referentie condensator die je gehad hebt in het plankje. Lees dan af wat de oscilloscoop meet. Bereken op basis van wat je op de scope meet wat de capaciteit van je referentie condensator is.\n",
    "\n",
    "**Laat je opstelling en je berekening aan je TA zien, die tekent dit af!**\n",
    "\n",
    "### Sanity check 3: Plaat condensator meten\n",
    "Nu je de meetopstelling hebt getest doen we een laatste sanity check: kunnen we de waarde van een plaatcondensator voorspellen (berekenen) en daarna meten? Kijk welke materialen je beschikbaar hebt en ontwerp (op papier!) een plaatcondensator die een capaciteit heeft van meer dan 50 pF. Geef in je schets de belangrijke dimensies (maten) aan. Gebruik de plaatcondensator formule die in het college behandeld is om te voorspellen wat de capaciteit van jullie condensator wordt:\n",
    "\n",
    "$$ C = \\epsilon_{0}\\epsilon_{r}\\frac{A}{d}$$\n",
    "\n",
    "waarbij $A$ de overlappende oppervlakte van je platen is, $d$ de afstand tussen je platen, $\\epsilon_{0}$ de diëlektrische constante van vacuum ( $8.8 \\times 10^{-12}$ Farad ) en $\\epsilon_{r}$ de diëlektrische waarde voor het materiaal tussen de platen ($1.0$ voor vacuum). Zet je berekening op hetzelfde papier als je ontwerpschets. Deze lever je later in. Bouw vervolgens je plaatcondensator en sluit deze aan zoals de referentie condensator bij sanity check 2. Bereken de amplitude van $V_{out}$ die je op de osciloscoop verwacht te gaan zien. \n",
    "\n",
    "Meet op de oscilloscoop en gebruik de formules die je bij santiy check 2 afgeleidt hebt om de daadwerkelijke capaciteit van je plaatcondensator te bepalen.\n",
    "\n",
    "** Vul onderstaande cellen in, tot en met de tabel. Laat je plaatcondensator, je ontwerp en je berekening aan je TA zien. Die tekent dit af. Pas als je TA sanity check 3 afgetekend heeft pak je als team er weer één laptop bij om door te gaan.**"
   ]
  },
  {
   "cell_type": "markdown",
   "metadata": {},
   "source": [
    "#### Voeg hier een foto van de schets van je plaatcondensator in. Geef daarbij ook duidelijk de waarde van $A$ en $d$ aan.\n",
    "<img src=\"tudelftLogo.png\" alt=\"schets student 1\" width=\"400\"/>"
   ]
  },
  {
   "cell_type": "code",
   "execution_count": null,
   "metadata": {
    "collapsed": true
   },
   "outputs": [],
   "source": [
    "#Schrijf hier een python functie die de capaciteit van een plaatcondensator uitrekent. Zorg dat de functie\n",
    "# als input de ontwerp parameters van de vlakke plaat formule accepteert (oppervlakte, afstand en diëlektrische\n",
    "# constante) en als output de capaciteit van de vlakke plaat condensator met die ontwerp parameters. \n",
    "# Je gaat deze formule de rest van de dag gebruiken: controleer hem goed!\n",
    "\n",
    "def functieNaam(jouwInputs):\n",
    "    output = jouwInputs \n",
    "    return output\n",
    "\n",
    "#optioneel: schrijf je functie zodanig dat je arrays als input kan geven en (dus) ook arrays als output. "
   ]
  },
  {
   "cell_type": "code",
   "execution_count": null,
   "metadata": {
    "collapsed": true
   },
   "outputs": [],
   "source": [
    "# Gebruik je formule om uit te rekenen wat je verwacht dat de capacitiet van jullie vlakke plaat condensatoren\n",
    "# gaat zijn.\n",
    "\n",
    "C = [functieNaam(2.0), functieNaam(4.7),functieNaam(1.2)]\n",
    "\n",
    "\n",
    "print(\"Berekende capaciteit plaatcondensator groep XX is \" + str(C[0]) + \" pF\")\n",
    "\n"
   ]
  },
  {
   "cell_type": "markdown",
   "metadata": {},
   "source": [
    "#### Voeg hier een foto van je plaatcondensator en van de meting op de scope in. Dus 2 foto's.\n",
    "<img src=\"tudelftLogo.png\" alt=\"plaatcondensator groep XX\" width=\"400\"/>\n",
    "<img src=\"tudelftLogo.png\" alt=\"meting groep XX\" width=\"400\"/>"
   ]
  },
  {
   "cell_type": "markdown",
   "metadata": {},
   "source": [
    "### Meting capaciteit\n",
    "Vul onderstaande tabel in. \n",
    "\n",
    "\n",
    "| Namen         | Berekende capaciteit   | Berekend Voltage | Gemeten Voltage | Gemeten capaciteit   |\n",
    "|-------------|-------------:|-------------:|-------------:|-------------:|\n",
    "| groep XX| ? |? | ? |? |"
   ]
  },
  {
   "cell_type": "markdown",
   "metadata": {
    "nbgrader": {
     "grade": false,
     "locked": true,
     "solution": false
    }
   },
   "source": [
    "## Ontwerp opdracht: Maak je eigen sensor.\n",
    "Na de sanity checks weet je nu hoe je een capaciteit meet en weet je hoe je de capaciteit van een plaatcondensator kan berekenen. Nu gaan we aan de echte ontwerpopdracht beginnen. De opdracht is:\n",
    "\n",
    "> Maak een sensor die op basis van een verandering in capaciteit iets meet. Wat 'iets' is mag je zelf verzinnen.\n",
    "\n",
    "We gaan, via dit notebook, weer de ontwerpcyclus door om tot je sensor te komen.\n",
    "\n",
    "### Synthese\n",
    "In de formule van de vlakke plaat condensator staan drie parameters die je kan gebruiken in je ontwerp: afstand ($d$), oppervlakte ($A$) en diëlektrische constante ($\\epsilon_{r}$). Deze parameters kan je door andere fysische grootheden laten veranderen. Zo zou je bijvoorbeeld een materiaal met een grote thermische expansie coefficient kunnen inklemmen tussen twee platen. Bij toename van de temperatuur worden de platen uit elkaar geduwd. Op die manier zorgt verandering in temperatuur voor verandering in afstand, dat via de capaciteit te meten is. Dit is een voorbeeld van een (vrij slechte!) temperatuur sensor. In de synthese fase ga je eerst ideeen ontwikkelen om vervolgens één idee te kiezen en uit te werken.\n",
    "\n",
    "#### Opdracht 1\n",
    "Verzin per parameter ($A$, $d$ en $\\epsilon_{r}$) minsten één andere fysische grootheid die je via $A$, $d$ of $\\epsilon_{r}$ kan meten. Schets hoe die drie sensoren eruit zouden moeten zien / zouden moeten werken. Upload hieronder die schetsen en **laat dat aan je TA zien.**"
   ]
  },
  {
   "cell_type": "markdown",
   "metadata": {},
   "source": [
    "#### Voeg hier voor een foto van je schets(en) van minimaal drie sensoren in.\n",
    "<img src=\"tudelftLogo.png\" alt=\"drie schetsen groep XX\" width=\"400\"/>\n"
   ]
  },
  {
   "cell_type": "markdown",
   "metadata": {},
   "source": [
    "### Evaluatie\n",
    "Kies één van je drie geschetste sensoren uit om daadwerkelijk te gaan maken. Bepaal je keuze op basis van de volgende criteria:\n",
    "\n",
    "- wat is haalbaar gegeven de beschikbare materialen en tijd?\n",
    "- wat vind je (als groep!) het leukst om te maken?\n",
    "\n",
    "\n",
    "Vul de volgende zin in:\n",
    "\n",
    "De door ons gekozen sensor gaat ... meten. "
   ]
  },
  {
   "cell_type": "markdown",
   "metadata": {
    "nbgrader": {
     "grade": false,
     "locked": true,
     "solution": false
    }
   },
   "source": [
    "### Simulatie\n",
    "Het is belangrijk om van te voren te weten of de sensor die je gaat maken zijn capaciteit in een groot genoeg meetbaar bereik veranderdt. Werk je schets van je gekozen sensor verder uit. Zet daar in ieder geval goed alle afmetingen bij. \n",
    "\n",
    "Als je schets klaar is, bepaal dan (schat, of leidt af) hoe de te meten variabele de variabele van de plaatcondensator beinvloed. \n",
    "\n",
    "Bijvoorbeeld: een stuk pvc tussen twee metalen platen van 10 cm bij 10 cm zal bij een temperatuur verandering van 20 naar 30 graden lineair uitzetten van 3 naar 3.002 millimeter. Hierdoor veranderd de capaciteit van 117.33 pF naar 117.25 pF. (ik heb expres een slecht voorbeeld gekozen, dit verschil is niet meetbaar).\n",
    "\n",
    "Bereken en plot de verwachte ontwerpgrafiek van jullie sensor hieronder. Maak daarbij gebruik van de functie die je zelf geschreven hebt. Zet met comments (#) duidelijk in je code welke aannames en schattingen je maakt."
   ]
  },
  {
   "cell_type": "markdown",
   "metadata": {},
   "source": [
    "#### Voeg hier een foto van jullie uitgewerkte  schets van de sensor die jullie gaan maken in\n",
    "<img src=\"tudelftLogo.png\" alt=\"uitgewerkte schets groep XX\" width=\"400\"/>"
   ]
  },
  {
   "cell_type": "code",
   "execution_count": null,
   "metadata": {
    "collapsed": true
   },
   "outputs": [],
   "source": [
    "#plot hier de verwachte ontwerpgrafiek van jullie sensoren. "
   ]
  },
  {
   "cell_type": "markdown",
   "metadata": {
    "nbgrader": {
     "grade": false,
     "locked": true,
     "solution": false
    }
   },
   "source": [
    "Om te kijken of de verwachte verandering in capaciteit goed meetbaar is gebruiken we het pakket LTSpice. Dit pakket simuleert het gedrag van elektrische schakelingen. **Ieder groepslid opent op de eigen laptop LTSpice.**\n",
    "\n",
    "- Open het bestand ```LTSpiceTemplateCapacitor.asc``` in LTSpice. (staat op Brightspace). \n",
    "- Run de simulatie (klik op rennende persoon icoon)\n",
    "- Klik met rechtermuisknop in de lege grafiek die verschijnt en kies \"add trace\" (of druk op A)\n",
    "- Kies V(vin) en V(vout) en druk op ok. Je zou nu twee grafieken moeten zien.\n",
    "- Verander de waarde van de condensator door er met de rechtermuisknop op te klikken. Een van de groepsleden kiest als waarde het midden van het verwachte bereik aan capaciteit (midden van je grafiek hierboven). De andere twee groepsleden kiezen het maximum en het minimum. \n",
    "- druk weer op 'run' en zie de grafieken veranderen. Lees af hoeveel Vpp LTSpice berekend bij de uitgang (Vout). Je kan de assen aanpassen door erop te klikken met je rechtermuisknop.\n",
    "- Vul gezamenlijk onderstaande tabel in. **Elk groepslid heeft nu succesvol met LTSpice gewerkt, dit is belangrijk voor de ontwerpopdracht van volgende week**\n",
    "\n",
    "Is de verwachte verandering in capaciteit goed meetbaar? Zo nee, ga dan terug in de ontwerp cyclus. Bepaal zelf hoe ver terug je moet stappen of vraag je TA om advies. \n",
    "**Is de verandering wel meetbaar, laat dan je ontwerpgrafiek en tabel aan je TA zien voor je verder gaat. Je TA tekent dit af. Deze grafiek moet voor de pauze af zijn!**"
   ]
  },
  {
   "cell_type": "markdown",
   "metadata": {},
   "source": [
    "|         | Capaciteit waarde (pF)  | LTSpice berekend output Vpp (mV)|\n",
    "|-------------|-------------:|-------------:|\n",
    "| minmale capaciteit| ? |? |\n",
    "| gemiddelde capaciteit| ? |? |\n",
    "| maximale capaciteit| ? |? |"
   ]
  },
  {
   "cell_type": "markdown",
   "metadata": {
    "nbgrader": {
     "grade": false,
     "locked": true,
     "solution": false
    }
   },
   "source": [
    "### Fabricage en meten (laptops weer weg)\n",
    "Maak nu je sensor.\n",
    "\n",
    "Zodra je sensor af is, maak je twee foto's van je sensor waarbij je in elke foto een andere meting doet. Probeer je scope scherm in beeld te krijgen zodat we ook de meetwaarde zien. Als dat door de opstelling niet kan, maar dan twee (extra) foto's van je scope die bij de metingen horen. Zet die foto's hieronder. Dit zijn de foto's die we gebruiken om te zien of jullie sensoren werken. "
   ]
  },
  {
   "cell_type": "markdown",
   "metadata": {},
   "source": [
    "#### Voeg hier de foto's van je sensoren in actie in.\n",
    "<img src=\"tudelftLogo.png\" alt=\"sensor groep XX meting 1\" width=\"400\"/>\n",
    "<img src=\"tudelftLogo.png\" alt=\"sensor groep XX meting 2\" width=\"400\"/>"
   ]
  },
  {
   "cell_type": "markdown",
   "metadata": {},
   "source": [
    "## Kalibratiemeting met Arduino\n",
    "Sluit vervolgens je sensor aan op je Arduino (zie de schakeling op Brightspace) en upload de code die op Brightspace staat naar je Arduino. Je kan nu heel snel heel veel metingen doen van de capaciteit, veel sneller dan als je dat steeds op de scope moet aflezen.\n",
    "\n",
    "Doe metingen over het bereik waar je de sensor voor ontworpen hebt (denk aan je berekende ontwerpgrafiek). Meet de bijbehorende capaciteit. Plot hieronder je gemeten kalibratiegrafiek. Plot in dezelfde figuur ook je verwachte kalibratie die je hierboven had uitgerekend."
   ]
  },
  {
   "cell_type": "code",
   "execution_count": null,
   "metadata": {
    "collapsed": true
   },
   "outputs": [],
   "source": [
    "#plot hier je gemeten kalibratiegrafiek en plot in dezelfde figuur ook je verwachte ontwerpgrafiek. "
   ]
  },
  {
   "cell_type": "markdown",
   "metadata": {
    "nbgrader": {
     "grade": false,
     "locked": true,
     "solution": false
    }
   },
   "source": [
    "## Itereren\n",
    "Bepaal aan de hand van je kalibratiegrafiek of je sensor goed is voor de gekozen grootheid. Kijk dan naar hoe de  sensor nog verbeterd kan worden. Vul onderstaande tekst aan."
   ]
  },
  {
   "cell_type": "markdown",
   "metadata": {},
   "source": [
    "Onze sensor kan nog verbetered worden door de volgende verbeteringen (minimaal 2):\n",
    "\n",
    "* verbetering 1\n",
    "* verbetering 2"
   ]
  },
  {
   "cell_type": "markdown",
   "metadata": {
    "nbgrader": {
     "grade": false,
     "locked": true,
     "solution": false
    }
   },
   "source": [
    "Vervolgens kies je één van de twee en voer je de voorgestelde verbetering uit en kalibreer je je sensor opnieuw."
   ]
  },
  {
   "cell_type": "markdown",
   "metadata": {
    "nbgrader": {
     "grade": false,
     "locked": true,
     "solution": false
    }
   },
   "source": [
    "## Uiteindelijke resultaat\n",
    "Zet hieronder een foto van je uiteindelijke sensor. Plot daaronder je kalibratiegrafiek, gemaakt op basis van je kalibratiemetingen. Fit een bijpassende lijn door je metingen. Zet in je plot ook je verwachte ontwerpgrafiek (op basis van je zelfgeschreven functie). "
   ]
  },
  {
   "cell_type": "markdown",
   "metadata": {},
   "source": [
    "#### Voeg hier een foto van je uiteindelijke sensor in.\n",
    "<img src=\"tudelftLogo.png\" alt=\"sensor foto 1\" width=\"400\"/>"
   ]
  },
  {
   "cell_type": "code",
   "execution_count": null,
   "metadata": {
    "collapsed": true
   },
   "outputs": [],
   "source": [
    "# plot hier je oorspronkelijke en je uiteindelijke kalibratiegrafieken, fit daar een bijpassende lijn door \n",
    "# en zet ook de verwachte ontwerpgrafiek erbij"
   ]
  },
  {
   "cell_type": "markdown",
   "metadata": {},
   "source": [
    "### Conclusie\n",
    "Vervang deze tekst door een korte conclusie over je eigen sensor. Benoem daar in minimaal:\n",
    "\n",
    "- Is je sensor uiteindelijk geschikt om het fenomeen dat je wilde meten daadwerkelijk te meten? (Dat zou wel moeten, anders moet je nog verder itereren).\n",
    "- heeft de verbetering uit de iteratie stap ook daadwerkelijk een verbetering opgeleverd?\n",
    "- zit er (significant) verschil tussen je voorspelling van de ontwerpgrafiek en je uiteindelijk gemeten kalibratiegrafiek? Kan je dat verschil verklaren?\n",
    "- klopt de vlakke plaat formule genoeg voor jullie specifieke sensor? \n",
    "\n",
    "**Laat deze conclusie door je TA lezen en aftekenen!**"
   ]
  },
  {
   "cell_type": "markdown",
   "metadata": {
    "nbgrader": {
     "grade": false,
     "locked": true,
     "solution": false
    }
   },
   "source": [
    "# Aantonen leerdoelen beheersing\n",
    "\n",
    "Om aan te tonen dat je de leerdoelen beheerst, kopieer je hieronder de cellen die laten zien dat je het betreffende leerdoel onder de knie hebt. Mogelijk komt een cel bij meerdere leerdoelen terug. Licht eventuele gebruikte fotos met een kort stukje tekst toe."
   ]
  },
  {
   "cell_type": "markdown",
   "metadata": {
    "nbgrader": {
     "grade": false,
     "locked": true,
     "solution": false
    }
   },
   "source": [
    "## Leerdoel 1: Het kunnen gebruiken van de eigenschappen van een elektrische component in een ontwerpproces om een fysische grootheid te meten. "
   ]
  },
  {
   "cell_type": "markdown",
   "metadata": {},
   "source": [
    "kopieer hier de cel(len) waaruit blijkt dat jullie leerdoel 1 beheersen."
   ]
  },
  {
   "cell_type": "markdown",
   "metadata": {
    "nbgrader": {
     "grade": false,
     "locked": true,
     "solution": false
    }
   },
   "source": [
    "## Leerdoel 2: Kennis hebben van gedrag van elektrische componenten en meetopstellingen."
   ]
  },
  {
   "cell_type": "markdown",
   "metadata": {
    "nbgrader": {
     "grade": false,
     "locked": false,
     "solution": false
    }
   },
   "source": [
    "kopieer hier de cel(len) waaruit blijkt dat jullie leerdoel 2 beheersen."
   ]
  },
  {
   "cell_type": "markdown",
   "metadata": {
    "nbgrader": {
     "grade": false,
     "locked": true,
     "solution": false
    }
   },
   "source": [
    "## Leerdoel 3: Onderdelen van een datasheet zoals een kalibratiegrafiek opstellen, gevoeligheid en onzekerheid beschrijven."
   ]
  },
  {
   "cell_type": "markdown",
   "metadata": {
    "nbgrader": {
     "grade": false,
     "locked": false,
     "solution": false
    }
   },
   "source": [
    "kopieer hier de cel(len) waaruit blijkt dat jullie leerdoel 3 beheersen."
   ]
  },
  {
   "cell_type": "markdown",
   "metadata": {
    "nbgrader": {
     "grade": false,
     "locked": true,
     "solution": false
    }
   },
   "source": [
    "## Feedback op samenwerken geven\n",
    "Kijk als herinnering nog even de video over feedback geve: https://www.youtube.com/watch?v=16uW1kPoiww. Pak je logboek van vorige week erbij en geef elkaar allemaal feedback. Noteer je feedback in je logboek."
   ]
  },
  {
   "cell_type": "markdown",
   "metadata": {
    "nbgrader": {
     "grade": false,
     "locked": true,
     "solution": false
    }
   },
   "source": [
    "## Inleveren\n",
    "Controleer eerst nog goed of alles in dit notebook klopt. Klik boven op **Kernel -> Restart and Run all** en check of er geen errors zijn. Zorg dat alle benodigde bestanden zijn geupload in vocareum en dat de afbeeldingen zichtbaar zijn in het notebook. \n",
    "\n",
    "Als je helemaal klaar bent kan het notebook worden ingeleverd door bovenaan op submit te klikken. Je kan meerdere keren iets inleveren, alleen de laatste versie wordt dan bewaard. Na de deadline (17.30!) is het niet meer mogelijk om in te leveren.\n",
    "\n",
    "Verder levert elke student individueel het feedback logboek in. Ook hiervoor is de deadline 17.30. Let op dat je deze inlevert bij de assignment van de huidige ontwerpopdracht."
   ]
  },
  {
   "cell_type": "markdown",
   "metadata": {
    "nbgrader": {
     "grade": false,
     "locked": true,
     "solution": false
    }
   },
   "source": [
    "## Opruimen en aftekenen\n",
    "Zodra alles ingeleverd is ruim je de tafel op. Zorg dat alles spullen die in de caddy horen daar weer netjes terug gelegd worden (zie de lijst bovenop de caddy!). \n",
    "\n",
    "**Als je klaar bent met opruimen laat je je tafel aan je TA zien. Je TA geeft je toestemming om weg te gaan als alles netjes is.**"
   ]
  }
 ],
 "metadata": {
  "kernelspec": {
   "display_name": "Python 3 (ipykernel)",
   "language": "python",
   "name": "python3"
  },
  "language_info": {
   "codemirror_mode": {
    "name": "ipython",
    "version": 3
   },
   "file_extension": ".py",
   "mimetype": "text/x-python",
   "name": "python",
   "nbconvert_exporter": "python",
   "pygments_lexer": "ipython3",
   "version": "3.5.2"
  }
 },
 "nbformat": 4,
 "nbformat_minor": 2
}
