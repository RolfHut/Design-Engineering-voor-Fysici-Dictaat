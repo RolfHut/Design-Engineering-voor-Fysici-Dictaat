{
 "cells": [
  {
   "cell_type": "markdown",
   "metadata": {
    "nbgrader": {
     "grade": false,
     "locked": true,
     "solution": false
    }
   },
},
  {
   "cell_type": "markdown",
   "metadata": {},
   "source": [
    "### Groep informatie\n",
    "\n",
    "Aan het einde van deze ontwerpopdracht lever je als groep één gezamenlijk notebook in (zowel notebook als pdf versie). Zet jullie groepsnummer, studienummers en namen in onderstaande tabel zodat wij zeker weten dat het groepsvormen goed is gegaan.\n",
    "\n",
    "| Groep: XX     |  |\n",
    "| :-------------|:-------------|\n",
    "| Student naam 1| Student Studienummer 1 |\n",
    "| Student naam 2| Student Studienummer 2 |\n",
    "| Student naam 3| Student Studienummer 3 |"
   ]
  },
  {
   "cell_type": "markdown",
   "metadata": {
    "nbgrader": {
     "grade": false,
     "locked": true,
     "solution": false
    }
   },
  },
  {
   "cell_type": "markdown",
   "metadata": {
    "nbgrader": {
     "grade": false,
     "locked": true,
     "solution": false
    }
   },

  },
  {
   "cell_type": "markdown",
   "metadata": {
    "nbgrader": {
     "grade": false,
     "locked": true,
     "solution": false
    }
   },

  },
  {
   "cell_type": "markdown",
   "metadata": {},
   "source": [
    "| Planning Groep: XX     |Tijdstip / Tijdspanne  |\n",
    "|---|---|\n",
    "| Mijlpaal 1 | Tijdstip |\n",
    "| Mijlpaal 2 | Tijdstip |\n",
    "| groep aanwezig 1| Tijdspanne |\n",
    "| groep aanwezig 2| Tijdspanne |\n",
    "| Pauze 1| Tijdspanne |\n",
    "| Pauze 2| Tijdspanne |"
   ]
  },
  {
   "cell_type": "markdown",
   "metadata": {
    "nbgrader": {
     "grade": false,
     "locked": true,
     "solution": false
    }
   },

  },
  {
   "cell_type": "markdown",
   "metadata": {
    "nbgrader": {
     "grade": false,
     "locked": true,
     "solution": false
    }
   },

  },
  {
   "cell_type": "markdown",
   "metadata": {},
   "source": [
    "#### Voeg hier een foto van de schets van je plaatcondensator in. Geef daarbij ook duidelijk de waarde van $A$ en $d$ aan.\n",
    "<img src=\"tudelftLogo.png\" alt=\"schets student 1\" width=\"400\"/>"
   ]
  },
  {
   "cell_type": "code",
   "execution_count": null,
   "metadata": {
    "collapsed": true
   },
   "outputs": [],
   "source": [
    "#Schrijf hier een python functie die de capaciteit van een plaatcondensator uitrekent. Zorg dat de functie\n",
    "# als input de ontwerp parameters van de vlakke plaat formule accepteert (oppervlakte, afstand en diëlektrische\n",
    "# constante) en als output de capaciteit van de vlakke plaat condensator met die ontwerp parameters. \n",
    "# Je gaat deze formule de rest van de dag gebruiken: controleer hem goed!\n",
    "\n",
    "def functieNaam(jouwInputs):\n",
    "    output = jouwInputs \n",
    "    return output\n",
    "\n",
    "#optioneel: schrijf je functie zodanig dat je arrays als input kan geven en (dus) ook arrays als output. "
   ]
  },
  {
   "cell_type": "code",
   "execution_count": null,
   "metadata": {
    "collapsed": true
   },
   "outputs": [],
   "source": [
    "# Gebruik je formule om uit te rekenen wat je verwacht dat de capacitiet van jullie vlakke plaat condensatoren\n",
    "# gaat zijn.\n",
    "\n",
    "C = [functieNaam(2.0), functieNaam(4.7),functieNaam(1.2)]\n",
    "\n",
    "\n",
    "print(\"Berekende capaciteit plaatcondensator groep XX is \" + str(C[0]) + \" pF\")\n",
    "\n"
   ]
  },
  {
   "cell_type": "markdown",
   "metadata": {},
   "source": [
    "#### Voeg hier een foto van je plaatcondensator en van de meting op de scope in. Dus 2 foto's.\n",
    "<img src=\"tudelftLogo.png\" alt=\"plaatcondensator groep XX\" width=\"400\"/>\n",
    "<img src=\"tudelftLogo.png\" alt=\"meting groep XX\" width=\"400\"/>"
   ]
  },
  {
   "cell_type": "markdown",
   "metadata": {},
   "source": [
    "### Meting capaciteit\n",
    "Vul onderstaande tabel in. \n",
    "\n",
    "\n",
    "| Namen         | Berekende capaciteit   | Berekend Voltage | Gemeten Voltage | Gemeten capaciteit   |\n",
    "|-------------|-------------:|-------------:|-------------:|-------------:|\n",
    "| groep XX| ? |? | ? |? |"
   ]
  },
  {
   "cell_type": "markdown",
   "metadata": {
    "nbgrader": {
     "grade": false,
     "locked": true,
     "solution": false
    }
   },

  },
  {
   "cell_type": "markdown",
   "metadata": {},
   "source": [
    "#### Voeg hier voor een foto van je schets(en) van minimaal drie sensoren in.\n",
    "<img src=\"tudelftLogo.png\" alt=\"drie schetsen groep XX\" width=\"400\"/>\n"
   ]
  },
  {
   "cell_type": "markdown",
   "metadata": {},
   "source": [


   ]
  },
  {
   "cell_type": "markdown",
   "metadata": {
    "nbgrader": {
     "grade": false,
     "locked": true,
     "solution": false
    }
   },
   "source": [
   ]
  },
  {
   "cell_type": "markdown",
   "metadata": {},
   "source": [
    "#### Voeg hier een foto van jullie uitgewerkte  schets van de sensor die jullie gaan maken in\n",
    "<img src=\"tudelftLogo.png\" alt=\"uitgewerkte schets groep XX\" width=\"400\"/>"
   ]
  },
  {
   "cell_type": "code",
   "execution_count": null,
   "metadata": {
    "collapsed": true
   },
   "outputs": [],
   "source": [
    "#plot hier de verwachte ontwerpgrafiek van jullie sensoren. "
   ]
  },
  {
   "cell_type": "markdown",
   "metadata": {
    "nbgrader": {
     "grade": false,
     "locked": true,
     "solution": false
    }
   },
   "source": [
    ]
  },
  {
   "cell_type": "markdown",
   "metadata": {},
   "source": [
    "|         | Capaciteit waarde (pF)  | LTSpice berekend output Vpp (mV)|\n",
    "|-------------|-------------:|-------------:|\n",
    "| minmale capaciteit| ? |? |\n",
    "| gemiddelde capaciteit| ? |? |\n",
    "| maximale capaciteit| ? |? |"
   ]
  },
  {
   "cell_type": "markdown",
   "metadata": {
    "nbgrader": {
     "grade": false,
     "locked": true,
     "solution": false
    }
   },
   "source": [
    ]
  },
  {
   "cell_type": "markdown",
   "metadata": {},
   "source": [
    "#### Voeg hier de foto's van je sensoren in actie in.\n",
    "<img src=\"tudelftLogo.png\" alt=\"sensor groep XX meting 1\" width=\"400\"/>\n",
    "<img src=\"tudelftLogo.png\" alt=\"sensor groep XX meting 2\" width=\"400\"/>"
   ]
  },
  {
   "cell_type": "markdown",
   "metadata": {},
   "source": [
    ]
  },
  {
   "cell_type": "code",
   "execution_count": null,
   "metadata": {
    "collapsed": true
   },
   "outputs": [],
   "source": [
    "#plot hier je gemeten kalibratiegrafiek en plot in dezelfde figuur ook je verwachte ontwerpgrafiek. "
   ]
  },
  {
   "cell_type": "markdown",
   "metadata": {
    "nbgrader": {
     "grade": false,
     "locked": true,
     "solution": false
    }
   },
   "source": [

   ]
  },
  {
   "cell_type": "markdown",
   "metadata": {},
   "source": [
    "Onze sensor kan nog verbetered worden door de volgende verbeteringen (minimaal 2):\n",
    "\n",
    "* verbetering 1\n",
    "* verbetering 2"
   ]
  },
  {
   "cell_type": "markdown",
   "metadata": {
    "nbgrader": {
     "grade": false,
     "locked": true,
     "solution": false
    }
   },
   "source": [

   ]
  },
  {
   "cell_type": "markdown",
   "metadata": {
    "nbgrader": {
     "grade": false,
     "locked": true,
     "solution": false
    }
   },
   "source": [
    ]
  },
  {
   "cell_type": "markdown",
   "metadata": {},
   "source": [
    "#### Voeg hier een foto van je uiteindelijke sensor in.\n",
    "<img src=\"tudelftLogo.png\" alt=\"sensor foto 1\" width=\"400\"/>"
   ]
  },
  {
   "cell_type": "code",
   "execution_count": null,
   "metadata": {
    "collapsed": true
   },
   "outputs": [],
   "source": [
    "# plot hier je oorspronkelijke en je uiteindelijke kalibratiegrafieken, fit daar een bijpassende lijn door \n",
    "# en zet ook de verwachte ontwerpgrafiek erbij"
   ]
  },
  {
   "cell_type": "markdown",
   "metadata": {},
   "source": [

   ]
  },
  {
   "cell_type": "markdown",
   "metadata": {
    "nbgrader": {
     "grade": false,
     "locked": true,
     "solution": false
    }
   },
   "source": [
    ]
  },
  {
   "cell_type": "markdown",
   "metadata": {
    "nbgrader": {
     "grade": false,
     "locked": true,
     "solution": false
    }
   },
   "source": [

   ]
  },
  {
   "cell_type": "markdown",
   "metadata": {},
   "source": [
    "kopieer hier de cel(len) waaruit blijkt dat jullie leerdoel 1 beheersen."
   ]
  },
  {
   "cell_type": "markdown",
   "metadata": {
    "nbgrader": {
     "grade": false,
     "locked": true,
     "solution": false
    }
   },
   "source": [
   ]
  },
  {
   "cell_type": "markdown",
   "metadata": {
    "nbgrader": {
     "grade": false,
     "locked": false,
     "solution": false
    }
   },
   "source": [
    "kopieer hier de cel(len) waaruit blijkt dat jullie leerdoel 2 beheersen."
   ]
  },
  {
   "cell_type": "markdown",
   "metadata": {
    "nbgrader": {
     "grade": false,
     "locked": true,
     "solution": false
    }
   },
   "source": [

   ]
  },
  {
   "cell_type": "markdown",
   "metadata": {
    "nbgrader": {
     "grade": false,
     "locked": false,
     "solution": false
    }
   },
   "source": [
    "kopieer hier de cel(len) waaruit blijkt dat jullie leerdoel 3 beheersen."
   ]
  },
  {
   "cell_type": "markdown",
   "metadata": {
    "nbgrader": {
     "grade": false,
     "locked": true,
     "solution": false
    }
   },
   "source": [
    ]
  },
  {
   "cell_type": "markdown",
   "metadata": {
    "nbgrader": {
     "grade": false,
     "locked": true,
     "solution": false
    }
   },
   "source": [
   ]
  },
  {
   "cell_type": "markdown",
   "metadata": {
    "nbgrader": {
     "grade": false,
     "locked": true,
     "solution": false
    }
   },
   "source": [
    ]
  }
 ],
 "metadata": {
  "kernelspec": {
   "display_name": "Python 3 (ipykernel)",
   "language": "python",
   "name": "python3"
  },
  "language_info": {
   "codemirror_mode": {
    "name": "ipython",
    "version": 3
   },
   "file_extension": ".py",
   "mimetype": "text/x-python",
   "name": "python",
   "nbconvert_exporter": "python",
   "pygments_lexer": "ipython3",
   "version": "3.5.2"
  }
 },
 "nbformat": 4,
 "nbformat_minor": 2
}
