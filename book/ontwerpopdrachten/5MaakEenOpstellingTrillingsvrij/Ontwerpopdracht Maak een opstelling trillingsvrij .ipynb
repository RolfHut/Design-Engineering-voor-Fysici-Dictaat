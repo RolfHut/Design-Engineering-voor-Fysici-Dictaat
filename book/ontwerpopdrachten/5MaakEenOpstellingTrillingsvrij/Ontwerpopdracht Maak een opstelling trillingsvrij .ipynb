{
 "cells": [
  {
   "cell_type": "markdown",
   "metadata": {
    "nbgrader": {
     "grade": false,
     "locked": true,
     "solution": false
    }
   },
   "source": [
    "# Ontwerpopdracht trillingsvrij."
   ]
  },
  {
   "cell_type": "markdown",
   "metadata": {},
   "source": [
    ""
   ]
  },
  {
   "cell_type": "markdown",
   "metadata": {},
   "source": [
    "### Groep informatie\n",
    "\n",
    "Aan het einde van deze ontwerpopdracht lever je als groep één gezamenlijk notebook in. Zet jullie studienummers en namen in onderstaande tabel zodat wij zeker weten dat het groepsvormen goed is gegaan.\n",
    "\n",
    "| Groep: XX     |  |\n",
    "| :-------------|:-------------|\n",
    "| Student naam 1| Student Studienummer 1 |\n",
    "| Student naam 2| Student Studienummer 2 |\n",
    "| Student naam 3| Student Studienummer 3 |"
   ]
  },
  {
   "cell_type": "markdown",
   "metadata": {
    "nbgrader": {
     "grade": false,
     "locked": true,
     "solution": false
    }
   },
   "source": [
    "# Opdracht 1: Planning."
   ]
  },
  {
   "cell_type": "markdown",
   "metadata": {},
   "source": [
    "| Planning Groep: XX     |Tijdstip / Tijdspanne  | \n",
    "|---|---|\n",
    "| activiteit 1| Tijdspanne |\n",
    "| activiteit 2| Tijdspanne |\n",
    "| Mijlpaal 1 | Tijdstip |\n",
    "| Mijlpaal 2 | Tijdstip |\n",
    "| Pauze 1| Tijdspanne |\n",
    "| Pauze 2| Tijdspanne |"
   ]
  },
  {
   "cell_type": "markdown",
   "metadata": {
    "nbgrader": {
     "grade": false,
     "locked": true,
     "solution": false
    }
   },
   "source": [
    "Run onderstaande cel om alle benodigde libraries te laden. Mogelijk voeg je er zelf nog een aantal toe later vandaag. "
   ]
  },
  {
   "cell_type": "code",
   "execution_count": 1,
   "metadata": {
    "collapsed": true,
    "scrolled": false
   },
   "outputs": [],
   "source": [
    "%matplotlib inline\n",
    "import matplotlib.pyplot as plt\n",
    "import pandas as pd\n",
    "import numpy as np\n",
    "import random\n",
    "import time\n",
    "import math"
   ]
  },
  {
   "cell_type": "markdown",
   "metadata": {
    "nbgrader": {
     "grade": false,
     "locked": true,
     "solution": false
    }
   },
   "source": [
    ""
   ]
  },
  {
   "cell_type": "markdown",
   "metadata": {
    "nbgrader": {
     "grade": false,
     "locked": true,
     "solution": false
    }
   },
   "source": [
    "# Opdracht 2: Opsplitsen."
   ]
  },
  {
   "cell_type": "markdown",
   "metadata": {
    "nbgrader": {
     "grade": false,
     "locked": true,
     "solution": false
    }
   },
   "source": [
    ""]
  },
  {
   "cell_type": "code",
   "execution_count": null,
   "metadata": {
    "collapsed": true
   },
   "outputs": [],
   "source": [
    "#bereken hier je benodigde kantelfrequentie"
   ]
  },
  {
   "cell_type": "markdown",
   "metadata": {
    "nbgrader": {
     "grade": false,
     "locked": true,
     "solution": false
    }
   },
   "source": [
   ]
  },
  {
   "cell_type": "code",
   "execution_count": null,
   "metadata": {
    "collapsed": true
   },
   "outputs": [],
   "source": [
    "#Voeg hier je plot in."
   ]
  },
  {
   "cell_type": "markdown",
   "metadata": {
    "nbgrader": {
     "grade": false,
     "locked": true,
     "solution": false
    }
   },
   "source": [
    "In het college hebben we laten zien dat je een gegeven kantelfrequentie ook kan omrekenen tot een $\\Delta x$, het verschil in lengte van de veer tussen de situaties wanneer je de massa er volledig afhaalt en wanneer je deze terug zet. Bereken hieronder wat de minimale $\\Delta x$ is die je nodig hebt om aan de ontwerpeis te voldoen."
   ]
  },
  {
   "cell_type": "code",
   "execution_count": null,
   "metadata": {
    "collapsed": true
   },
   "outputs": [],
   "source": [
    "#bereken hier de minimale Delta-x\n"
   ]
  },
  {
   "cell_type": "markdown",
   "metadata": {
    "nbgrader": {
     "grade": false,
     "locked": true,
     "solution": false
    }
   },
   "source": [
    "De berekende $\\Delta x$ is het grensgeval waar je opstelling net aan de eisen voldoet. Echter: als je gaat bouwen heb je te maken met onnauwkeurigheden in je constructie: is bijvoorbeeld $\\Delta x$ wel precies gemeten? Verder is de formule die we gebruiken een benadering: zo verwaarlozen we het effect van demping. Het is dus handig om in je ontwerp te mikken op een veiligere $\\Delta x$ dan precies op de grens van de eis. \n",
    "\n",
    "Plot hieronder een grafiek voor de door jouw berekende $\\Delta x$ waar je massa op de x-as en veerconstante op de y-as zet. Zet in dezelfde grafiek ook lijnen die horen bij een twee keer zo grote en vijf keer zo grote $\\Delta x$. Zorg voor goede labels bij de verschillende lijnen. **Laat je grafiek aan je TA zien.**"
   ]
  },
  {
   "cell_type": "code",
   "execution_count": null,
   "metadata": {
    "collapsed": true
   },
   "outputs": [],
   "source": [
    "# Voeg hier je plot in.\n",
    "# Het is ook handig om je grafiek op te slaan, doe dat door met plt.savefig()"
   ]
  },
  {
   "cell_type": "markdown",
   "metadata": {
    "nbgrader": {
     "grade": false,
     "locked": true,
     "solution": false
    }
   },
   "source": [
    "In jullie plot kan je zelf zien wat je moet doen om een hogere $\\Delta x$ te bereiken en zo dus een lagere kantelfrequentie en dus een lagere amplitude overdracht bij een gegeven verstoringsfrequentie te halen. Je kan twee dingen veranderen om je $\\Delta x$ te verhogen. Geef die hieronder aan:"
   ]
  },
  {
   "cell_type": "markdown",
   "metadata": {},
   "source": [
    "We kunnen $\\Delta x$ verhogen door:\n",
    "\n",
    "- vul hier optie 1 in\n",
    "- vul hier optie 2 in"
   ]
  },
  {
   "cell_type": "markdown",
   "metadata": {
    "nbgrader": {
     "grade": false,
     "locked": true,
     "solution": false
    }
   },
   "source": [
    "## Groepsoverleg en laten zien sanity check\n",
    "Als je jullie twee taken hebt uitgevoerd kom je als groep samen om te beslissen op welke $\\Delta x$ je gaat mikken in jullie ontwerp. Eerst presenteer je aan elkaar kort je bevindingen van je individuele taak. Daarna neem je als groep een beslissing: op welke $\\Delta x$ ga je mikken in je ontwerp. Noteer hieronder je beslissing en ** laat aan je TA zien**:\n",
    "\n",
    "- Je werkende Arduino opstelling\n",
    "- de grafiek van $\\Delta x$ die je hierboven gemaakt hebt. "
   ]
  },
  {
   "cell_type": "markdown",
   "metadata": {},
   "source": [
    "### vastleggen keuze:\n",
    "Vul onderstaande in. Geef eventueel met tekst aan waaorm je hiervoor gekozen hebt, als extra informatie richting de nakijkers. \n",
    "\n",
    "Als groep gaan we mikken op een $\\Delta x$ van: "
   ]
  },
  {
   "cell_type": "markdown",
   "metadata": {
    "nbgrader": {
     "grade": false,
     "locked": true,
     "solution": false
    }
   },
   "source": [
    "## Synthese\n",
    "Je weet nu welke $\\Delta x$ je minimaal dient te bereiken. Rekening houdend met de materialen die je voorhande hebt: Maak een schets van je beoogde massa-veer systeem. Denk daarbij aan:\n",
    "\n",
    "- wat ga je als veer / verend materiaal gebruiken. (dus niet: welke veerconstante, maar: welk fysiek ding ga je als veer / verend materiaal gebruiken?)\n",
    "- wat ga je als massa gebruiken (dus niet: hoe zwaar is dat ding, maar: welk ding)\n",
    "- hoe ga je je massa aan je veer bevestigen?\n",
    "\n",
    "Vervang onderstaande TU Delft logo hieronder door jullie schets.\n",
    "\n"
   ]
  },
  {
   "cell_type": "markdown",
   "metadata": {},
   "source": [
    "##### schets opstelling: \n",
    "<img src=\"tudelftLogo.png\" width=\"400\">"
   ]
  },
  {
   "cell_type": "markdown",
   "metadata": {
    "nbgrader": {
     "grade": false,
     "locked": true,
     "solution": false
    }
   },
   "source": [
    "## Simulatie\n",
    "Voordat je je massa-veer systeem gaat bouwen doe je eerst een simulatie: test of je $\\Delta x$ gehaald hebt. Bevestig zo snel en makkelijk mogelijk je massa aan je veer / verend materiaal. **Bouw dus nog niet de hele opstelling, maar test alleen de massa en veer.** Wordt de veer met minimaal $\\Delta x$ ingeduwd / uitgerekt? **Laat dit aan je TA zien** voordat je verder gaat met je hele opstelling bouwen!"
   ]
  },
  {
   "cell_type": "markdown",
   "metadata": {
    "scrolled": true
   },
   "source": [
    "## Evaluatie en Beslissing\n",
    "Voldoet je ontwerp aan de eisen? Beantwoord de volgende vragen:\n",
    "\n",
    "### Wat is de $\\Delta x$ van je ontwerp?\n",
    "\n",
    "**Voeg hier je antwoord in**\n",
    "\n",
    "### Wordt die $\\Delta x$ behaald met je gekozen massa en veer?\n",
    "\n",
    "**Voeg hier je antwoord in**\n",
    "\n",
    "### hoeveel verder kan je massa-veer systeem nog uitrekken / indrukken?\n",
    "Wat is de limiet aan je veer / verend materiaal voordat het niet meer lineair reageert volgens de wet van Hooke?\n",
    "\n",
    "**Voeg hier je antwoord in**\n",
    "\n",
    "### Is dat genoeg om straks metingen te kunnen doen?\n",
    "Hou er rekening mee dat je trillingen een amplitude in de orde grote van een paar centimeter gaan hebben, minder is met deze opzet moeilijk te realiseren.\n",
    "\n",
    "**Voeg hier je antwoord in**\n",
    "\n",
    "### Gaat je ontwerp dus voldoen aan de eis?\n",
    "\n",
    "**Voeg hier je antwoord in.**\n",
    "\n",
    "Als je hier positief geantwoord heb, maak dan nog een keer een plot van amplitude overdracht (y-as) versus frequentie (x-as) zoals je hierboven ook al een keer gedaan heb, maar zet nu twee lijnen in de grafiek: één behorende bij de grens van de ontwerp-eis en één behorende bij je eigen ontwerp. Deze grafiek heb je later weer nodig om je gemeten punten aan toe te voegen. Ga daarna je massa-veer systeem daadwerkelijk bouwen.\n",
    "\n",
    "Als je hier negatief geantwoord hebt, kopieer onder deze cel dan alle cellen van Synthese tot en met Evaluation & decision en doorloop dat deel van het ontwerp proces nogmaals."
   ]
  },
  {
   "cell_type": "code",
   "execution_count": null,
   "metadata": {
    "collapsed": true
   },
   "outputs": [],
   "source": [
    "#voeg hier je plot in."
   ]
  },
  {
   "cell_type": "markdown",
   "metadata": {
    "nbgrader": {
     "grade": false,
     "locked": true,
     "solution": false
    }
   },
   "source": [
    "## Fabricage\n",
    "Maak nu het massa-veer systeem dat je ontworpen had. **Laat voordat je gaat meten je opstelling aan je TA zien.** (als je TA druk is, begin met meten, maar zorg wel dat je TA je opstelling gezien heeft, anders krijg je misschien te laat te horen dat er iets niet in orde is!)"
   ]
  },
  {
   "cell_type": "markdown",
   "metadata": {
    "nbgrader": {
     "grade": false,
     "locked": true,
     "solution": false
    }
   },
   "source": [
    "## Evaluatie\n",
    "Nu gaan jullie meten of het daadwerkelijk gelukt is de amplitude-overdracht die geëist is te behalen.\n",
    "\n",
    "#### extra sanity check\n",
    "De metingen kunnen best tijdrovend zijn. Als sanity-check: til je massa op (of duw hem omhoog) totdat je veer / verend materiaal niet meer onder spanning staat. Heb je je beoogde $\\Delta x$ gehaald? Zo niet, ga dan snel je opstelling verbeteren (stappen terug in de ontwerp cyclus) tot dit wel gelukt is. Denk aan de grafiek van veerconstante versus massa: wat kan je doen om in jouw ontwerp $\\Delta x$ groter en dus de kantelfrequentie lager te maken?\n",
    "\n",
    "### Meetplan\n",
    "Je gaat bij verschillende frequenties een video maken van het gedrag van je opstelling. De frequenties die ik aanraad dat je doet zijn ongeveer de volgende, maar misschien wil je dit op basis van je ontwerp aanpassen. Als je dat doet, pas dan onderstaande lijst aan. Je mag (natuurlijk) meer metingen doen, maar drie is het minimum. Zorg er altijd voor dat je zowel lager, als hoger, dan je kantelfrequentie minimaal één meting hebt en zorg ervoor dat op basis van je metingen geconcludeerd kan worden dat je opstelling aan de eis van een factor 3 amplitude afname bij 5Hz voldoet\n",
    "\n",
    "- 1 Hz of 60 beats per minute (bpm)\n",
    "- 3 Hz of 180 bpm\n",
    "- 5 Hz of 300 bpm (of zo dicht bij als het je lukt te komen, dit is heel snel)\n",
    "\n",
    "### Metingen doen\n",
    "In het college en in de videos is uitgelegd hoe je metingen kan doen met je Arduino en de amplitude overdracht kan bepalen. \n",
    "\n",
    "#### filmpje resultaat\n",
    "Je moet een filmpje maken van je opstelling en je meting op je scherm. Doe dit bij een frequentie die hoger (sneller) is dan de eis, of bij een lagere frequentie waarbij je de factor van 3 in ampliture afname al haalt. Dan kunnen we namelijk in het filmpje zien dat jullie opstelling 'werkt' volgens de eis. Zorg ervoor dat je filmpje niet langer dan 30 seconden is (en liefst korter)\n",
    "\n",
    "Dit filmpje lever je op Brightspace in, niet hier op Vocareum uploaden!"
   ]
  },
  {
   "cell_type": "markdown",
   "metadata": {
    "nbgrader": {
     "grade": false,
     "locked": true,
     "solution": false
    }
   },
   "source": [
    "### Resultaat metingen\n",
    "Maak opnieuw de grafiek van amplitude overdracht versus frequentie die je aan het einde van Evaluatie hierboven gemaakt hebt (dus met twee lijnen) en voeg daar je meetpunten aan toe. "
   ]
  },
  {
   "cell_type": "code",
   "execution_count": null,
   "metadata": {
    "collapsed": true
   },
   "outputs": [],
   "source": [
    "#voeg hier je plots in"
   ]
  },
  {
   "cell_type": "markdown",
   "metadata": {
    "nbgrader": {
     "grade": false,
     "locked": true,
     "solution": false
    }
   },
   "source": [
    "### Iteratie?\n",
    "Kijk of het nodig is om nog een iteratie te doen. Dat kan het geval zijn als:\n",
    "- Jullie opstelling nog niet aan de minimale eis voldoet. \n",
    "- Door verbeteringen toe te voegen (of weg te halen!) tot een nog beter resultaat gaat leiden en er nog genoeg tijd is om deze verbeteringen aan te brengen.\n",
    "\n",
    "Als je gaat itereren, kopieer dan benodigde cellen hieronder. Leg goed je proces vast in dit notebook zodat wij zien wat je gedaan hebt. Lever sowieso hieronder een foto, met korte beschrijving, van je uiteindelijke opstelling in zodat we kunnen zien wat er gemaakt is.\n"
   ]
  },
  {
   "cell_type": "markdown",
   "metadata": {
    "nbgrader": {
     "grade": false,
     "locked": true,
     "solution": false
    }
   },
   "source": [
    "# Leerdoelen\n",
    "Lees de leerdoelen nog eens terug. In de cel hieronder kan je met twee grafieken die je vandaag als het goed is al gemaakt heb laten zien dat je de leerdoelen onder de knie hebt. Als je de grafieken als figuren hebt opgeslagen, kan je deze makkelijk hieronder laten zien. Je kan ze ook opnieuw uitrekenen, maar let dan heel goed op dat door hieronder code te runnen je misschien niet precies dezelfde resultaten als hierboven krijgt wanneer je niet netjes hebt geprogammeerd met namen van variabellen."
   ]
  },
  {
   "cell_type": "code",
   "execution_count": null,
   "metadata": {
    "collapsed": true
   },
   "outputs": [],
   "source": [
    "#Als je met Python je resulaten wil laten zien: voeg hier je code in"
   ]
  },
  {
   "cell_type": "markdown",
   "metadata": {},
   "source": [
    "#### Als je je figuren onderweg opgeslagen hebt, kan je ze hier invoegen:\n",
    "<img src=\"tudelftLogo.png\" width=\"400\">\n",
    "<img src=\"tudelftLogo.png\" width=\"400\">"
   ]
  },
  {
   "cell_type": "markdown",
   "metadata": {
    "nbgrader": {
     "grade": false,
     "locked": true,
     "solution": false
    }
   },
   "source": [
    "## Inleveren resultaten\n",
    "Als alles gelukt is, kan je je resultaten inleveren. **Laat voordat je dit doet je resultaten aan je TA zien ter controle!**\n",
    "\n",
    "Controleer eerst nog goed of alles klopt. Klik boven op Kernel -> Restart and Run all en check of er geen errors zijn. Zorg dat alle benodigde bestanden zijn geupload in vocareum en dat de afbeeldingen zichtbaar zijn in het notebook. \n",
    "\n",
    "Als je helemaal klaar bent kan het notebook worden ingeleverd door bovenaan op submit te klikken. Je kan meerdere keren iets inleveren, alleen de laatste versie wordt dan bewaard. \n",
    "\n",
    "Op Brightspace is een aparte assignment waar je de video moet inleveren. Zet deze video niet bij dit notebook!"
   ]
  },
  {
   "cell_type": "markdown",
   "metadata": {
    "collapsed": true,
    "nbgrader": {
     "grade": false,
     "locked": true,
     "solution": false
    }
   },
   "source": [
    "## Samenwerking feedback geven, noteren en inleveren\n",
    "Net als bij elke workshop geef je elkaar weer feedback op de samenwerking. Kijk als nodig nog even de videos daarvan terug. De feedback die je krijgt noteer je in je logboek en dat lever je weer in.\n",
    "\n"
   ]
  },
  {
   "cell_type": "markdown",
   "metadata": {
    "nbgrader": {
     "grade": false,
     "locked": true,
     "solution": false
    }
   },
   "source": [
    "# Opruimen en door TA af laten tekenen dat je weg gaat\n",
    "Als alles ingeleverd is ruim je je tafel op. **Laat je TA controleren dat je tafel er ok uitziet voordat je weg gaat. **"
   ]
  }
 ],
 "metadata": {
  "kernelspec": {
   "display_name": "Python 3 (ipykernel)",
   "language": "python",
   "name": "python3"
  },
  "language_info": {
   "codemirror_mode": {
    "name": "ipython",
    "version": 3
   },
   "file_extension": ".py",
   "mimetype": "text/x-python",
   "name": "python",
   "nbconvert_exporter": "python",
   "pygments_lexer": "ipython3",
   "version": "3.5.2"
  }
 },
 "nbformat": 4,
 "nbformat_minor": 2
}
