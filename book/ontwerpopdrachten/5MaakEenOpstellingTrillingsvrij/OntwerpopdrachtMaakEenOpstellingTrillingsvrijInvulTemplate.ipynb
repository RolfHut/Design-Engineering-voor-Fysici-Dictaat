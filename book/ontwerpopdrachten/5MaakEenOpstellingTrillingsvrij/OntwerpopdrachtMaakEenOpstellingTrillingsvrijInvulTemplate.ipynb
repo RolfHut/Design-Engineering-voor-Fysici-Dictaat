{
 "cells": [
  {
   "cell_type": "markdown",
   "id": "fdba39bd-9245-45cc-93b8-33199358d2a3",
   "metadata": {
    "editable": true,
    "slideshow": {
     "slide_type": ""
    },
    "tags": []
   },
   "source": [
    "# DEF Ontwerpopdracht 5 Invul template"
   ]
  },
  {
   "cell_type": "markdown",
   "id": "c8484c17-db35-40e5-b35e-048ad40e2984",
   "metadata": {
    "editable": true,
    "slideshow": {
     "slide_type": ""
    },
    "tags": []
   },
   "source": [
    "## Groep informatie\n",
    "\n",
    "Aan het einde van deze ontwerpopdracht lever je als groep één gezamenlijk notebook in. Zet jullie studienummers en namen in onderstaande tabel zodat wij zeker weten dat het groepsvormen goed is gegaan."
   ]
  },
  {
   "cell_type": "markdown",
   "id": "c7840b33-35ca-48ca-8a75-2881ffd02007",
   "metadata": {},
   "source": [
    "| Groep: XX     |  |\n",
    "| :-------------|:-------------|\n",
    "| Student naam 1| Student Studienummer 1 |\n",
    "| Student naam 2| Student Studienummer 2 |\n",
    "| Student naam 3| Student Studienummer 3 |"
   ]
  },
  {
   "cell_type": "markdown",
   "id": "4485209e-96c9-41e6-b32c-c65164e73c94",
   "metadata": {
    "editable": true,
    "slideshow": {
     "slide_type": ""
    },
    "tags": []
   },
   "source": [
    "## Opdracht 1: Planning."
   ]
  },
  {
   "cell_type": "markdown",
   "id": "75bfc10c-2788-4e5e-b31b-372fee5c2a5d",
   "metadata": {},
   "source": [
    "| Planning Groep: XX     |Tijdstip / Tijdspanne  | door wie  |\n",
    "|---|---|---|\n",
    "| Arduino testen| Tijdspanne | naam |\n",
    "| ontwerp-eis berekenen| Tijdspanne | naam|\n",
    "| activiteit 1 | Tijdspanne | hele groep |\n",
    "| activiteit 2 | Tijdspanne | hele groep |\n",
    "| Mijlpaal 1 | Tijdstip | ---|\n",
    "| Mijlpaal 2 | Tijdstip | ---|\n",
    "| Pauze 1| Tijdspanne | hele groep |\n",
    "| Pauze 2| Tijdspanne | hele groep |"
   ]
  },
  {
   "cell_type": "markdown",
   "id": "a14395e6-e9b5-40ab-a637-a9ddac6930ed",
   "metadata": {
    "editable": true,
    "slideshow": {
     "slide_type": ""
    },
    "tags": []
   },
   "source": [
    "Run onderstaande cel om alle benodigde libraries te laden. Mogelijk voeg je er zelf nog een aantal toe later vandaag. "
   ]
  },
  {
   "cell_type": "code",
   "execution_count": null,
   "id": "54848a22-4dd8-4864-8917-e06637bb8907",
   "metadata": {
    "editable": true,
    "slideshow": {
     "slide_type": ""
    },
    "tags": []
   },
   "outputs": [],
   "source": [
    "%matplotlib inline\n",
    "import matplotlib.pyplot as plt\n",
    "import pandas as pd\n",
    "import numpy as np\n",
    "import random\n",
    "import time\n",
    "import math"
   ]
  },
  {
   "cell_type": "markdown",
   "id": "a1b4da31-307f-4768-803d-3e39ba2112fc",
   "metadata": {
    "editable": true,
    "slideshow": {
     "slide_type": ""
    },
    "tags": []
   },
   "source": [
    "## Opdracht 2a: Opsplitsen taak 1: Arduino\n",
    "Vul onderstaande tabel in:"
   ]
  },
  {
   "cell_type": "markdown",
   "id": "0a2a3b41-2627-49ab-be1d-bf94fc49e9bc",
   "metadata": {
    "editable": true,
    "slideshow": {
     "slide_type": ""
    },
    "tags": []
   },
   "source": [
    "| onderwerp    | antwoord  |\n",
    "|---|---|\n",
    "| hoe moeilijk (schaal 1 - 10) |  |\n",
    "| hoe lang voor één meting |  |\n",
    "| verwacht nauwkeurigheid meting |  |"
   ]
  },
  {
   "cell_type": "markdown",
   "id": "1c895dc4-f2ba-4a83-a328-f184346955b2",
   "metadata": {
    "editable": true,
    "slideshow": {
     "slide_type": ""
    },
    "tags": []
   },
   "source": [
    "## Opdracht 2b: Opsplitsen taak 2: afleiding ontwerpeis"
   ]
  },
  {
   "cell_type": "code",
   "execution_count": null,
   "id": "d11aec23-4215-4073-869c-58a1ee5c1f21",
   "metadata": {
    "editable": true,
    "slideshow": {
     "slide_type": ""
    },
    "tags": []
   },
   "outputs": [],
   "source": [
    "#bereken hier je benodigde kantelfrequentie"
   ]
  },
  {
   "cell_type": "code",
   "execution_count": null,
   "id": "95d26f56-05ee-41f3-b23e-4d1bff734dd5",
   "metadata": {},
   "outputs": [],
   "source": [
    "#Voeg hier je plot in."
   ]
  },
  {
   "cell_type": "code",
   "execution_count": null,
   "id": "59027665-0ad6-40ef-807c-2505ea17a360",
   "metadata": {
    "editable": true,
    "slideshow": {
     "slide_type": ""
    },
    "tags": []
   },
   "outputs": [],
   "source": [
    "#bereken hier de minimale Delta-x waarbij je aan de eis van de opdracht voldoet"
   ]
  },
  {
   "cell_type": "markdown",
   "id": "9851f11b-d95d-499a-a9d3-cbe4cb9584ba",
   "metadata": {
    "editable": true,
    "slideshow": {
     "slide_type": ""
    },
    "tags": []
   },
   "source": [
    "## Opdracht 3: Plot de grafiek."
   ]
  },
  {
   "cell_type": "code",
   "execution_count": null,
   "id": "dab2737e-e500-4bc4-a674-180a5d8c3ffa",
   "metadata": {
    "editable": true,
    "slideshow": {
     "slide_type": ""
    },
    "tags": []
   },
   "outputs": [],
   "source": [
    "# Voeg hier je plot in. Lees goed de opdracht wat er in de grafiek moet staan!\n",
    "# Het is ook handig om je grafiek op te slaan, doe dat door met plt.savefig()"
   ]
  },
  {
   "cell_type": "markdown",
   "id": "8344dd19-a9e4-412e-849b-1cf44eb9945d",
   "metadata": {},
   "source": [
    "## Opdracht 4: Verander $\\Delta x$."
   ]
  },
  {
   "cell_type": "markdown",
   "id": "1bff65d2-bd8b-49e0-9714-e426a7001f52",
   "metadata": {
    "editable": true,
    "slideshow": {
     "slide_type": ""
    },
    "tags": []
   },
   "source": [
    "We kunnen $\\Delta x$ verhogen door:\n",
    "\n",
    "- vul hier optie 1 in\n",
    "- vul hier optie 2 in\n",
    "\n",
    "Vul onderstaande aan. Geef eventueel met tekst aan waarom je hiervoor gekozen hebt, als extra informatie richting de nakijkers. \n",
    "\n",
    "Als groep gaan we mikken op een $\\Delta x$ van: "
   ]
  },
  {
   "cell_type": "markdown",
   "id": "588b9f9f-6b8f-4017-9f6a-0e045aec2ba7",
   "metadata": {
    "editable": true,
    "slideshow": {
     "slide_type": ""
    },
    "tags": []
   },
   "source": [
    "## Opdracht 5: Schets."
   ]
  },
  {
   "cell_type": "markdown",
   "id": "336b439d-ff32-4541-88a6-762e5bf188d7",
   "metadata": {
    "editable": true,
    "slideshow": {
     "slide_type": ""
    },
    "tags": []
   },
   "source": [
    "##### schets opstelling: \n",
    "<img src=\"tudelftLogo.png\" width=\"400\">"
   ]
  },
  {
   "cell_type": "markdown",
   "id": "261eae10-62aa-47c1-9221-9f45d69982c1",
   "metadata": {},
   "source": [
    "## Opdracht 6: Beslissing evaluatie"
   ]
  },
  {
   "cell_type": "markdown",
   "id": "b350f152-cfb7-4080-9009-d5625409d2ad",
   "metadata": {
    "editable": true,
    "slideshow": {
     "slide_type": ""
    },
    "tags": []
   },
   "source": [
    "Voldoet je ontwerp aan de eisen? Beantwoord de volgende vragen:\n",
    "\n",
    "### Wat is de $\\Delta x$ van je ontwerp?\n",
    "\n",
    "**Voeg hier je antwoord in**\n",
    "\n",
    "### Wordt die $\\Delta x$ behaald met je gekozen massa en veer?\n",
    "\n",
    "**Voeg hier je antwoord in**\n",
    "\n",
    "### hoeveel verder kan je massa-veer systeem nog uitrekken / indrukken?\n",
    "Wat is de limiet aan je veer / verend materiaal voordat het niet meer lineair reageert volgens de wet van Hooke?\n",
    "\n",
    "**Voeg hier je antwoord in**\n",
    "\n",
    "### Is dat genoeg om straks metingen te kunnen doen?\n",
    "Hou er rekening mee dat je trillingen een amplitude in de orde grote van een paar centimeter gaan hebben, minder is met deze opzet moeilijk te realiseren.\n",
    "\n",
    "**Voeg hier je antwoord in**\n",
    "\n",
    "### Gaat je ontwerp dus voldoen aan de eis?\n",
    "\n",
    "**Voeg hier je antwoord in.**\n",
    "\n",
    "Als je hier positief geantwoord heb, maak dan nog een keer een plot van amplitude overdracht (y-as) versus frequentie (x-as) zoals je hierboven ook al een keer gedaan heb, maar plot nu twee verschillende overdrachten in de grafiek: één die je al had: behorende bij de grens van de ontwerp-eis en één behorende bij je eigen ontwerp. Lees af dat je voor je ontwerp daadwerkelijk onder de eis grafiek zit op de kritieke frequentie!\n",
    "\n",
    "Deze grafiek heb je later weer nodig om je gemeten punten aan toe te voegen. Ga daarna je massa-veer systeem daadwerkelijk bouwen.\n",
    "\n",
    "Als je hier negatief geantwoord hebt, kopieer onder deze cel dan alle cellen van Synthese tot en met Evaluation & decision en doorloop dat deel van het ontwerp proces nogmaals."
   ]
  },
  {
   "cell_type": "code",
   "execution_count": null,
   "id": "cb4d5bfe-3f85-42a7-87e0-e958703947c5",
   "metadata": {
    "editable": true,
    "slideshow": {
     "slide_type": ""
    },
    "tags": []
   },
   "outputs": [],
   "source": [
    "#voeg hier je plot in."
   ]
  },
  {
   "cell_type": "markdown",
   "id": "ed3e21e7-04d4-40af-b803-e9ff183e0090",
   "metadata": {
    "editable": true,
    "slideshow": {
     "slide_type": ""
    },
    "tags": []
   },
   "source": [
    "## Opdracht 7: Plotten maar"
   ]
  },
  {
   "cell_type": "code",
   "execution_count": null,
   "id": "2e2b8033-fea2-4d6c-9e43-275637464d24",
   "metadata": {
    "editable": true,
    "slideshow": {
     "slide_type": ""
    },
    "tags": []
   },
   "outputs": [],
   "source": [
    "#voeg hier je plots in"
   ]
  },
  {
   "cell_type": "markdown",
   "id": "c7b3654f-c736-49ec-9207-e107a6aafb22",
   "metadata": {
    "editable": true,
    "slideshow": {
     "slide_type": ""
    },
    "tags": []
   },
   "source": [
    "## Opdracht 8: Leerdoelen\n",
    "Voeg hieronder zelf kopjes toe om aan te geven wat bij welk leerdoel hoort. "
   ]
  },
  {
   "cell_type": "code",
   "execution_count": null,
   "id": "b76207c8-ccfe-4466-9555-26fe87b3e298",
   "metadata": {
    "editable": true,
    "slideshow": {
     "slide_type": ""
    },
    "tags": []
   },
   "outputs": [],
   "source": [
    "#Als je met Python je resulaten wil laten zien: voeg hier je code in"
   ]
  },
  {
   "cell_type": "markdown",
   "id": "296a7c9a-c1e0-4206-a7ac-b2ea04c963ac",
   "metadata": {
    "editable": true,
    "slideshow": {
     "slide_type": ""
    },
    "tags": []
   },
   "source": [
    "#### Als je je figuren onderweg opgeslagen hebt, kan je ze hier invoegen:\n",
    "<img src=\"tudelftLogo.png\" width=\"400\">\n",
    "<img src=\"tudelftLogo.png\" width=\"400\">"
   ]
  }
 ],
 "metadata": {
  "kernelspec": {
   "display_name": "Python [conda env:base] *",
   "language": "python",
   "name": "conda-base-py"
  },
  "language_info": {
   "codemirror_mode": {
    "name": "ipython",
    "version": 3
   },
   "file_extension": ".py",
   "mimetype": "text/x-python",
   "name": "python",
   "nbconvert_exporter": "python",
   "pygments_lexer": "ipython3",
   "version": "3.9.13"
  }
 },
 "nbformat": 4,
 "nbformat_minor": 5
}
