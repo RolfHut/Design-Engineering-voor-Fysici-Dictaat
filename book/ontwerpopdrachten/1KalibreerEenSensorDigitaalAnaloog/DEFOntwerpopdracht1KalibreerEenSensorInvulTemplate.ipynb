{
 "cells": [
  {
   "cell_type": "markdown",
   "metadata": {},
   "source": [
    "## Invul Cel 1: Groepsgegevens en planning \n",
    "\n",
    "Aan het einde van deze ontwerpopdracht lever je als groep dit notebook gezamenlijk in via Vocareum. Zet jullie studienummers en namen in onderstaande tabel zodat wij zeker weten dat het groepsvormen goed is gegaan.\n",
    "\n",
    "| Groep: XX     |  |\n",
    "| :-------------|:-------------|\n",
    "| Student naam 1| Student Studienummer 1 |\n",
    "| Student naam 2| Student Studienummer 2 |\n",
    "| Student naam 3| Student Studienummer 3 |\n",
    "\n",
    "| Planning Groep: XX     |Tijdstip / Tijdspanne  |\n",
    "|---|---|\n",
    "| Mijlpaal 1 | Tijdstip |\n",
    "| Mijlpaal 2 | Tijdstip |\n",
    "| Pauze 1| Tijdspanne |\n",
    "| Pauze 2| Tijdspanne |"
   ]
  },
  {
   "cell_type": "markdown",
   "metadata": {
    "nbgrader": {
     "grade": false,
     "locked": true,
     "solution": false
    }
   },
   "source": []
  },
  {
   "cell_type": "markdown",
   "metadata": {},
   "source": [
    "#### Opdracht 1: Leg jullie schetsen naast elkaar, maak één foto en voeg die hier in.\n",
    "Upload de afbeelding in vocareum en verander hieronder de naam van de file. Licht kort toe wat er in de foto te zien is.\n",
    " ![Alt](TU_P2_rgb.png \"schets\")"
   ]
  },
  {
   "cell_type": "markdown",
   "metadata": {
    "nbgrader": {
     "grade": false,
     "locked": true,
     "solution": false
    }
   },
   "source": [
    "## Stap 2: Criteria\n",
    "Bepaal voor de bedachte toepassingen de criteria waarbij de sensor geschikt is. Definieer je criteria als een harde grens. Denk aan **SM**a**R**t uit het college. Het kunnen per toepassing meerdere criteria zijn. Kies vervolgens één van de drie sensoren uit om de rest van de dag mee verder te gaan. "
   ]
  },
  {
   "cell_type": "markdown",
   "metadata": {},
   "source": [
    "#### Opdracht 2, MIJLPAAL, Leerdoel\n",
    "Vul onderstaande tabel in en geef aan met welke sensor je verder gaat.** Laat dit aan je TA zien.** Als je TA druk is: ga wel ondertussen door met de volgende stap.\n",
    "\n",
    "| Sensor | Toepassing | Criteria |\n",
    "|:---|:---|:---|\n",
    "|sensornaam | toepassing omschrijving | Criteria omschrijving |\n",
    "|sensornaam | toepassing omschrijving | Criteria omschrijving |\n",
    "|sensornaam | toepassing omschrijving | Criteria omschrijving |\n",
    "|sensornaam | toepassing omschrijving | Criteria omschrijving |\n",
    "|sensornaam | toepassing omschrijving | Criteria omschrijving |\n",
    "|sensornaam | toepassing omschrijving | Criteria omschrijving |\n",
    "|sensornaam | toepassing omschrijving | Criteria omschrijving |\n",
    "|sensornaam | toepassing omschrijving | Criteria omschrijving |\n",
    "|sensornaam | toepassing omschrijving | Criteria omschrijving |\n",
    "\n",
    "Groep XX heeft gekozen voor sensor YY. "
   ]
  },
  {
   "cell_type": "markdown",
   "metadata": {
    "nbgrader": {
     "grade": false,
     "locked": true,
     "solution": false
    }
   },
   "source": [
    "##  Sanity Check\n",
    "**Laat aan je TA zien dat de meetwaarde wijzigt als je de sensor beinvloedt (warmer maakt, erin knijpt, etc). Je TA tekent dit af!**. Dit laat ons zien dat het jullie allemaal gelukt is in ieder geval de sensor werkend aan te sluiten. Als je niet voor 12.00 iets laat zien komen we bij jullie groep langs om te vragen wat er mis is en om jullie te helpen."
   ]
  },
  {
   "cell_type": "markdown",
   "metadata": {
    "nbgrader": {
     "grade": false,
     "locked": true,
     "solution": false
    }
   },
   "source": [
    "## Stap 3\n",
    "Je gaat een kalibratieopstelling ontwerpen en bouwen om je sensor mee te evalueren. Het ontwerpen van je opstelling is een aparte ontwerp ronde binnen deze evaluatie stap! \n",
    "\n",
    "### Stap 3.1: Synthese\n",
    "Welk experiment wil je gaan doen om jouw sensor te evalueren? Schets hieronder de meetopstelling die je voor ogen hebt. Hou rekening met beschikbare materialen. Zorg ook dat het elektrisch circuit dat onderdeel van jouw opstelling is duidelijk is. Mogelijk teken je dit apart. Jouw schets hoeft niet mooi te zijn, maar moet wel duidelijk zijn. Geef waar nodig aan met labels wat je bedoelt."
   ]
  },
  {
   "cell_type": "markdown",
   "metadata": {},
   "source": [
    "#### Opdracht 3: Voeg hier een foto van de schets van jouw meetopstelling in. \n",
    "Licht kort toe wat er in de foto te zien is.\n",
    " ![Alt](TU_P2_rgb.png \"schets student\")"
   ]
  },
  {
   "cell_type": "markdown",
   "metadata": {
    "nbgrader": {
     "grade": false,
     "locked": true,
     "solution": false
    }
   },
   "source": [
    "### Stap 3.2: Evaluatie\n",
    "\n",
    "In deze stap bepaal je of jouw opstelling in staat gaat zijn om de evaluatie uit te voeren. Beantwoord de volgende vragen:\n",
    "\n",
    "1. Welke variabelen ga je veranderen? \n",
    "2. Over welk bereik ga je deze variabelen veranderen?\n",
    "3. Wat ga je allemaal meten?\n",
    "4. Hoeveel metingen ga je doen?\n",
    "5. Ga je met deze keuzes kunnen evalueren of jouw sensor geschikt is voor de gekozen toepassingen?\n",
    "\n",
    "Als je bij vraag 5 nee antwoord, ga dan terug naar stap 3.1 en pas jouw ontwerp aan. Als het antwoord ja is, **laat dit dan aan je TA zien voordat je verder gaat.**"
   ]
  },
  {
   "cell_type": "markdown",
   "metadata": {},
   "source": [
    "#### Opdracht 4: Beantwoord de vragen\n",
    "\n",
    "1. \n",
    "2. \n",
    "3. \n",
    "4. \n",
    "5. "
   ]
  },
  {
   "cell_type": "markdown",
   "metadata": {
    "nbgrader": {
     "grade": false,
     "locked": true,
     "solution": false
    }
   },
   "source": [
    "### Stap 3.3: Bouwen en meten!\n",
    "Bouw de kalibratieopstelling."
   ]
  },
  {
   "cell_type": "markdown",
   "metadata": {},
   "source": [
    "#### Opdracht 5: Voeg hier een foto van jouw meetopstelling in. Leerdoel.\n",
    "Licht kort toe wat er in de foto te zien is.\n",
    " ![Alt](TU_P2_rgb.png \"meetopstelling student\")"
   ]
  },
  {
   "cell_type": "markdown",
   "metadata": {
    "nbgrader": {
     "grade": false,
     "locked": true,
     "solution": false
    }
   },
   "source": [
    "#### Eerste meting MIJLPAAL\n",
    "**Zodra je jouw eerste meting gedaan hebt laat je deze aan je TA zien.** Die geeft mogelijk nog feedback op de opstelling en het meetplan om deze waar nodig te verbeteren. Ga daarna door met het meetplan uitvoeren."
   ]
  },
  {
   "cell_type": "markdown",
   "metadata": {
    "nbgrader": {
     "grade": false,
     "locked": true,
     "solution": false
    }
   },
   "source": [
    "#### Opdracht 6: Meten en fitten, Leerdoel"
   ]
  },
  {
   "cell_type": "code",
   "execution_count": null,
   "metadata": {
    "collapsed": true,
    "jupyter": {
     "outputs_hidden": true
    }
   },
   "outputs": [],
   "source": [
    "# zet hier jouw data in een voor jouw handig formaat"
   ]
  },
  {
   "cell_type": "code",
   "execution_count": null,
   "metadata": {
    "collapsed": true,
    "jupyter": {
     "outputs_hidden": true
    }
   },
   "outputs": [],
   "source": [
    "# plot hier de meting en fit een lijn door de metingen. \n",
    "# Maak gebruik van wat je geleerd heb bij het practicum.\n",
    "%matplotlib inline\n"
   ]
  },
  {
   "cell_type": "markdown",
   "metadata": {
    "nbgrader": {
     "grade": false,
     "locked": true,
     "solution": false
    }
   },
   "source": [
    "#### Opdracht 7: Iteratie nodig?\n",
    "Op dit punt moet je beslissen: hebben we genoeg gegevens om een conclusie te trekken: is deze sensor geschikt voor de door ons gekozen toepassingen? Overleg dit met jouw groep. Als jouw antwoord is: we hebben nog niet genoeg gegevens, beschrijf dan hieronder wat jullie nog gaan doen: meer van dezelfde metingen? Andere metingen? \n",
    "\n",
    "Als je gaat itereren, voeg dan zelf hieronder extra cellen toe waar je de extra code en grafieken in laat zien."
   ]
  },
  {
   "cell_type": "markdown",
   "metadata": {},
   "source": [
    "Vervang deze tekst door jouw antwoord."
   ]
  },
  {
   "cell_type": "markdown",
   "metadata": {
    "nbgrader": {
     "grade": false,
     "locked": true,
     "solution": false
    }
   },
   "source": [
    "### Stap 3.4: Conclusie\n",
    "Op basis van jouw metingen zou je een conclusie moeten kunnen trekken over de bruikbaarheid van jouw sensor voor de gekozen toepassing. Schrijf hieronder jouw conlusie. Wees kort en bondig, maar leg wel duidelijk uit waar je jouw conclusie op baseert, alleen \"ja\" of \"nee\" volstaat niet. max 50 woorden.\n"
   ]
  },
  {
   "cell_type": "markdown",
   "metadata": {},
   "source": [
    "#### Opdracht 8: Conclusie MIJLPAAL, leerdoel\n",
    "#### Conclusie toepassing  \n",
    "\n",
    "Vervang deze tekst door jouw conclusie. **Wanneer je klaar bent, roep je de TA.  Laat dit notebook aan de TA zien.** Laat vooral conclusie aan de TA zien. Als je TA alles ok vindt, ben je bijna klaar voor vandaag en kan je gaan evalueren, inleveren en opruimen. "
   ]
  },
  {
   "cell_type": "markdown",
   "metadata": {
    "nbgrader": {
     "grade": false,
     "locked": true,
     "solution": false
    }
   },
   "source": [
    "# Aantonen leerdoelen beheersing\n",
    "\n",
    "Om aan te tonen dat je de leerdoelen beheerst, kopieer je hieronder alle cellen met 'leerdoel' in de titel. Zet zelf de cellen onder de goede kopjes. Mogelijk komt een cel bij meerdere leerdoelen terug."
   ]
  },
  {
   "cell_type": "markdown",
   "metadata": {
    "nbgrader": {
     "grade": false,
     "locked": true,
     "solution": false
    }
   },
   "source": [
    "## Leerdoel 1: simpele circuits (RC-circuit, spanningsdelers met sensoren) ontwerpen en fabriceren."
   ]
  },
  {
   "cell_type": "markdown",
   "metadata": {},
   "source": [
    "Kopieer hier de cel(len) waaruit blijkt dat jullie leerdoel 1 beheersen."
   ]
  },
  {
   "cell_type": "markdown",
   "metadata": {
    "nbgrader": {
     "grade": false,
     "locked": true,
     "solution": false
    }
   },
   "source": [
    "## Leerdoel 2: ontwerpeisen voor een opdracht SMART opstellen en vervolgens de ontwerpcyclus inrichten, rekening houdend met de randvoorwaarde van de opdracht."
   ]
  },
  {
   "cell_type": "markdown",
   "metadata": {
    "nbgrader": {
     "grade": false,
     "locked": false,
     "solution": false
    }
   },
   "source": [
    "Kopieer hier de cel(len) waaruit blijkt dat jullie leerdoel 2 beheersen."
   ]
  },
  {
   "cell_type": "markdown",
   "metadata": {
    "nbgrader": {
     "grade": false,
     "locked": true,
     "solution": false
    }
   },
   "source": [
    "## Leerdoel 3: voor een gegeven sensor & analoog-digitaal convertor en gegeven (of zelf gekozen) toepassing een kalibratie meting ontwerpen, inclusief het circuit om de sensor aan te sluiten op de analoog-digitaal convertor, de opstelling bouwen, en meetresultaten verwerken en concluderen of de combinatie van sensor en analoog-digitaal conversie geschikt is voor de toepassing."
   ]
  },
  {
   "cell_type": "markdown",
   "metadata": {
    "nbgrader": {
     "grade": false,
     "locked": false,
     "solution": false
    }
   },
   "source": [
    "Kopieer hier de cel(len) waaruit blijkt dat jullie leerdoel 3 beheersen."
   ]
  },
  {
   "cell_type": "markdown",
   "metadata": {
    "nbgrader": {
     "grade": false,
     "locked": true,
     "solution": false
    }
   },
   "source": [
    "## Evalueren groepswerk\n",
    "Voordat je het uiteindelijke resultaat inlevert geef je binnen je groep feedback op hoe het samenwerken vandaag ging. Kijk eerst allemaal deze youtube video: https://www.youtube.com/watch?v=16uW1kPoiww. Lees daarna het PDF document 'instructie feedback geven' dat op Brightspace staat. Geef ten slotte elkaar feedback. Noteer de feedback die je krijgt in het 'logboek ontvangen feedback' dat ook op Brightspace staat. Bewaar dit logboek goed: je moet het elke week aanvullen met de feedback die je die week krijgt.\n",
    "\n",
    "Lever individueel je logboek in op Brightspace, voor 17.30."
   ]
  },
  {
   "cell_type": "markdown",
   "metadata": {
    "nbgrader": {
     "grade": false,
     "locked": true,
     "solution": false
    }
   },
   "source": [
    "## Inleveren\n",
    "Controleer eerst nog goed of alles klopt. **Klik boven op Kernel -> Restart and Run all en check of er geen errors zijn**. Zorg dat alle benodigde bestanden zijn geupload in Vocareum en dat de afbeeldingen zichtbaar zijn in het notebook. \n",
    "\n",
    "Als je helemaal klaar bent kan het notebook worden ingeleverd door bovenaan op **submit** te klikken. Je kan meerdere keren iets inleveren en alleen de laatste versie wordt bewaard. Na de deadline is het niet meer mogelijk om in te leveren.\n"
   ]
  },
  {
   "cell_type": "markdown",
   "metadata": {
    "nbgrader": {
     "grade": false,
     "locked": true,
     "solution": false
    }
   },
   "source": [
    "# Opruimen\n",
    "Als de TA de conclusie goedgekeurd heeft en jouw opdracht ingeleverd is kan je gaan opruimen. Als alles opgeruimd is laat je dit aan de TA zien. **Pas als de TA zegt dat het goed opgeruimd is mag je naar huis**. Groepen die vertrekken zonder dat de TA gecontroleerd heeft of alles netjes opgeruimd is worden niet nagekeken."
   ]
  },
  {
   "cell_type": "markdown",
   "metadata": {
    "nbgrader": {
     "grade": false,
     "locked": true,
     "solution": false
    }
   },
   "source": [
    "## Stap 4: Implementatie van Kalibratie (optioneel)\n",
    "Nu de sensor gekalibreerd is, zou je de code op jouw Arduino moeten kunnen aanpassen zodat je op de seriale monitor niet meer ruwe digitale meetwaardes ziet, maar daadwerkelijk gemeten fysische waardes, bijvoorbeeld de temperatuur in graden Celsius als je voor de thermistor gekozen hebt."
   ]
  },
  {
   "cell_type": "markdown",
   "metadata": {
    "nbgrader": {
     "grade": false,
     "locked": true,
     "solution": false
    }
   },
   "source": [
    "## Stap 5: Implementatie van toepassing (optioneel)\n",
    "Mogelijk ben je met de gegeven materialen zelfs in staat om de toepassing die je voor ogen had te bouwen."
   ]
  },
  {
   "cell_type": "markdown",
   "metadata": {},
   "source": []
  }
 ],
 "metadata": {
  "kernelspec": {
   "display_name": "Python 3 (ipykernel)",
   "language": "python",
   "name": "python3"
  },
  "language_info": {
   "codemirror_mode": {
    "name": "ipython",
    "version": 3
   },
   "file_extension": ".py",
   "mimetype": "text/x-python",
   "name": "python",
   "nbconvert_exporter": "python",
   "pygments_lexer": "ipython3",
   "version": "3.9.13"
  }
 },
 "nbformat": 4,
 "nbformat_minor": 4
}
