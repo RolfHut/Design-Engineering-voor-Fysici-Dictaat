{
 "cells": [
  {
   "cell_type": "markdown",
   "metadata": {},
   "source": [
    "# DEF Ontwerpopdracht 1 invul template"
   ]
  },
  {
   "cell_type": "markdown",
   "metadata": {},
   "source": [
    "## Groepsgegevens en planning \n",
    "\n",
    "Aan het einde van deze ontwerpopdracht lever je als groep dit notebook gezamenlijk in via Vocareum. Zet jullie studienummers en namen in onderstaande tabel zodat wij zeker weten dat het groepsvormen goed is gegaan.\n",
    "\n",
    "| Groep: XX     |  |\n",
    "| :-------------|:-------------|\n",
    "| Student naam 1| Student Studienummer 1 |\n",
    "| Student naam 2| Student Studienummer 2 |\n",
    "| Student naam 3| Student Studienummer 3 |\n",
    "\n",
    "| Planning Groep: XX     |Tijdstip / Tijdspanne  |\n",
    "|---|---|\n",
    "| Mijlpaal 1: Criteria opgesteld | Tijdstip |\n",
    "| Mijlpaal 2: Eerste kalibratie meting gedaan| Tijdstip |\n",
    "| Pauze 1| Tijdspanne |\n",
    "| Pauze 2| Tijdspanne |"
   ]
  },
  {
   "cell_type": "markdown",
   "metadata": {},
   "source": [
    "## *Opdracht 1*: Foto van alle schetsen.\n",
    "\n",
    "Zet de foto in dezelfde map als dit notebook en verander hieronder de naam in de naam van de foto.\n",
    "\n",
    "![Alt](TU_P2_rgb.png \"analyse: ideeen\")"
   ]
  },
  {
   "cell_type": "markdown",
   "metadata": {},
   "source": [
    "## *Opdracht 2*, MIJLPAAL, Leerdoel\n",
    "Vul onderstaande tabel in en geef aan met welke sensor je verder gaat.** Laat dit aan je TA zien.** Als je TA druk is: ga wel ondertussen door met de volgende stap.\n",
    "\n",
    "| Sensor | Toepassing | Criteria |\n",
    "|:---|:---|:---|\n",
    "|sensornaam | toepassing omschrijving | Criteria omschrijving |\n",
    "|sensornaam | toepassing omschrijving | Criteria omschrijving |\n",
    "|sensornaam | toepassing omschrijving | Criteria omschrijving |\n",
    "|sensornaam | toepassing omschrijving | Criteria omschrijving |\n",
    "|sensornaam | toepassing omschrijving | Criteria omschrijving |\n",
    "|sensornaam | toepassing omschrijving | Criteria omschrijving |\n",
    "|sensornaam | toepassing omschrijving | Criteria omschrijving |\n",
    "|sensornaam | toepassing omschrijving | Criteria omschrijving |\n",
    "|sensornaam | toepassing omschrijving | Criteria omschrijving |\n",
    "\n",
    "Groep XX heeft gekozen voor sensor YY. "
   ]
  },
  {
   "cell_type": "markdown",
   "metadata": {},
   "source": [
    "## *Opdracht 3*: foto van de schets van jouw meetopstelling in. \n",
    "Licht kort toe wat er in de foto te zien is.\n",
    " ![Alt](TU_P2_rgb.png \"schets student\")"
   ]
  },
  {
   "cell_type": "markdown",
   "metadata": {},
   "source": [
    "## *Opdracht 4*: Beantwoord de vragen\n",
    "\n",
    "1. Welke variabelen ga je veranderen? \n",
    "2. Over welk bereik ga je deze variabelen veranderen?\n",
    "3. Wat ga je allemaal meten?\n",
    "4. Hoeveel metingen ga je doen?\n",
    "5. Ga je met deze keuzes kunnen evalueren of jouw sensor geschikt is voor de gekozen toepassingen?\n"
   ]
  },
  {
   "cell_type": "markdown",
   "metadata": {},
   "source": [
    "## *Opdracht 5*: Foto van jouw meetopstelling in. Leerdoel.\n",
    "Licht kort toe wat er in de foto te zien is.\n",
    " ![Alt](TU_P2_rgb.png \"meetopstelling student\")"
   ]
  },
  {
   "cell_type": "markdown",
   "metadata": {
    "nbgrader": {
     "grade": false,
     "locked": true,
     "solution": false
    }
   },
   "source": [
    "## *Opdracht 6*: Meten en fitten, Leerdoel"
   ]
  },
  {
   "cell_type": "code",
   "execution_count": null,
   "metadata": {
    "tags": []
   },
   "outputs": [],
   "source": [
    "# zet hier jouw data in een voor jouw handig formaat"
   ]
  },
  {
   "cell_type": "code",
   "execution_count": null,
   "metadata": {
    "tags": []
   },
   "outputs": [],
   "source": [
    "# plot hier de meting en fit een lijn door de metingen. \n",
    "# Maak gebruik van wat je geleerd heb bij het practicum.\n",
    "%matplotlib inline\n"
   ]
  },
  {
   "cell_type": "markdown",
   "metadata": {
    "nbgrader": {
     "grade": false,
     "locked": true,
     "solution": false
    }
   },
   "source": [
    "## *Opdracht 7*: Iteratie nodig?"
   ]
  },
  {
   "cell_type": "markdown",
   "metadata": {},
   "source": [
    "Vervang deze tekst door jouw antwoord."
   ]
  },
  {
   "cell_type": "markdown",
   "metadata": {},
   "source": [
    "## *Opdracht 8*: Conclusie, leerdoel\n",
    "\n",
    "Vervang deze tekst door jouw conclusie. "
   ]
  },
  {
   "cell_type": "markdown",
   "metadata": {
    "nbgrader": {
     "grade": false,
     "locked": true,
     "solution": false
    }
   },
   "source": [
    "## *Opdracht 9*: Aantonen leerdoelen beheersing\n",
    "\n",
    "Om aan te tonen dat je de leerdoelen beheerst, kopieer je hieronder alle cellen met 'leerdoel' in de titel. Zet zelf de cellen onder de goede kopjes. Mogelijk komt een cel bij meerdere leerdoelen terug."
   ]
  },
  {
   "cell_type": "markdown",
   "metadata": {
    "nbgrader": {
     "grade": false,
     "locked": true,
     "solution": false
    }
   },
   "source": [
    "### Leerdoel 1: simpele circuits (RC-circuit, spanningsdelers met sensoren) ontwerpen en fabriceren."
   ]
  },
  {
   "cell_type": "markdown",
   "metadata": {},
   "source": [
    "Kopieer hier de cel(len) waaruit blijkt dat jullie leerdoel 1 beheersen."
   ]
  },
  {
   "cell_type": "markdown",
   "metadata": {
    "nbgrader": {
     "grade": false,
     "locked": true,
     "solution": false
    }
   },
   "source": [
    "### Leerdoel 2: ontwerpeisen voor een opdracht SMART opstellen en vervolgens de ontwerpcyclus inrichten, rekening houdend met de randvoorwaarde van de opdracht."
   ]
  },
  {
   "cell_type": "markdown",
   "metadata": {
    "nbgrader": {
     "grade": false,
     "locked": false,
     "solution": false
    }
   },
   "source": [
    "Kopieer hier de cel(len) waaruit blijkt dat jullie leerdoel 2 beheersen."
   ]
  },
  {
   "cell_type": "markdown",
   "metadata": {
    "nbgrader": {
     "grade": false,
     "locked": true,
     "solution": false
    }
   },
   "source": [
    "### Leerdoel 3: voor een gegeven sensor & analoog-digitaal convertor en gegeven (of zelf gekozen) toepassing een kalibratie meting ontwerpen, inclusief het circuit om de sensor aan te sluiten op de analoog-digitaal convertor, de opstelling bouwen, en meetresultaten verwerken en concluderen of de combinatie van sensor en analoog-digitaal conversie geschikt is voor de toepassing."
   ]
  },
  {
   "cell_type": "markdown",
   "metadata": {
    "nbgrader": {
     "grade": false,
     "locked": false,
     "solution": false
    }
   },
   "source": [
    "Kopieer hier de cel(len) waaruit blijkt dat jullie leerdoel 3 beheersen."
   ]
  },
  {
   "cell_type": "markdown",
   "metadata": {},
   "source": []
  }
 ],
 "metadata": {
  "kernelspec": {
   "display_name": "Python 3 (ipykernel)",
   "language": "python",
   "name": "python3"
  },
  "language_info": {
   "codemirror_mode": {
    "name": "ipython",
    "version": 3
   },
   "file_extension": ".py",
   "mimetype": "text/x-python",
   "name": "python",
   "nbconvert_exporter": "python",
   "pygments_lexer": "ipython3",
   "version": "3.9.13"
  }
 },
 "nbformat": 4,
 "nbformat_minor": 4
}
