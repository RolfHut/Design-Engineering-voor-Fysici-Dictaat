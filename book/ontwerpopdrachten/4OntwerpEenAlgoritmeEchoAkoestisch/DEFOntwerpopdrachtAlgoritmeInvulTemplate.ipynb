{
 "cells": [
  {
   "cell_type": "markdown",
   "id": "92b19dbc-f77b-4fe1-91c7-35a7641a45b5",
   "metadata": {},
   "source": [
    "# DEF Ontwerpopdracht 4 invul template\n",
    "Aan het einde van deze ontwerpopdracht lever je als groep één gezamenlijk notebook in. Zet jullie groepsnummer, studienummers en namen in onderstaande tabel zodat wij zeker weten dat het groepsvormen goed is gegaan.\n",
    "\n",
    "| Groep: XX     |  |\n",
    "| :-------------|:-------------|\n",
    "| Student naam 1| Student Studienummer 1 |\n",
    "| Student naam 2| Student Studienummer 2 |\n",
    "| Student naam 3| Student Studienummer 3 |"
   ]
  },
  {
   "cell_type": "code",
   "execution_count": null,
   "id": "2e1a49fc-61d2-4a28-98c1-6fa0dd1288ff",
   "metadata": {},
   "outputs": [],
   "source": [
    "# Vul ook hieronder jullie namen in en run deze cel. \n",
    "# Dat is nodig voor de code die je verderop in dit notebook gaat runnen\n",
    "\n",
    "studentNames = ['naam1', 'naam2','naam3']"
   ]
  },
  {
   "cell_type": "markdown",
   "id": "d7655658-8a96-4838-9316-2034222db3e6",
   "metadata": {},
   "source": [
    "## Opdracht 1: Planning."
   ]
  },
  {
   "cell_type": "markdown",
   "id": "b2abf8b6-2e72-4c5e-8d6f-5428effea78e",
   "metadata": {},
   "source": [
    "| Planning Groep: XX     |Tijdstip / Tijdspanne  |\n",
    "|---|---|\n",
    "| Mijlpaal 1 | Tijdstip |\n",
    "| Mijlpaal 2 | Tijdstip |\n",
    "| groep aanwezig 1| Tijdspanne |\n",
    "| groep aanwezig 2| Tijdspanne |\n",
    "| Pauze 1| Tijdspanne |\n",
    "| Pauze 2| Tijdspanne |"
   ]
  },
  {
   "cell_type": "markdown",
   "id": "04230d44-5013-43f8-83ff-71f3ed3d64eb",
   "metadata": {},
   "source": [
    "## Opdracht 2: import libs."
   ]
  },
  {
   "cell_type": "code",
   "execution_count": null,
   "id": "4e9ad344-4dc7-42e0-8738-0c9be115eb75",
   "metadata": {},
   "outputs": [],
   "source": [
    "%matplotlib inline\n",
    "import matplotlib.pyplot as plt\n",
    "import pandas as pd\n",
    "import numpy as np\n",
    "import random\n",
    "import time\n",
    "\n",
    "# Dit is onze eigen library waar het imaging algoritme in staat\n",
    "import imagingDEF2024 as imagingDEF"
   ]
  },
  {
   "cell_type": "markdown",
   "id": "4a761e45-18e9-4ee0-a54a-49218c240dc6",
   "metadata": {},
   "source": [
    "## Opdracht 3: kalibratie sensor en foto"
   ]
  },
  {
   "cell_type": "markdown",
   "id": "c8e272cb-749f-4469-9e79-8995d71028bd",
   "metadata": {},
   "source": [
    "kalibratie-opstelling groep [nummer]\n",
    "<img src=\"tudelftLogo.png\" width=\"400\">"
   ]
  },
  {
   "cell_type": "code",
   "execution_count": null,
   "id": "32d5478c-3b3d-42ee-84fa-e1e088e649f1",
   "metadata": {},
   "outputs": [],
   "source": [
    "# verwerk hier jullie kalibratiemetingen"
   ]
  },
  {
   "cell_type": "markdown",
   "id": "f91ba343-7f33-46af-97fd-c17183e00c0b",
   "metadata": {},
   "source": [
    "## Opdracht 4: test meeting"
   ]
  },
  {
   "cell_type": "code",
   "execution_count": null,
   "id": "75387bea-d585-45e0-8bcd-ae0c20a5cb19",
   "metadata": {},
   "outputs": [],
   "source": [
    "# vul onderstaande matrixen aan met jullie meetgegevens. De getallen 1.0, 2.0, 3.0, 4.0, 5.0, 6.0 en 7.0 \n",
    "# moet je door je eigen metingen (in cm!) vervangen.\n",
    "# let op dat de meting een totale afstand die het geluid afgelegd heeft moet zijn.\n",
    "\n",
    "# als je ongeldige metingen hebt (denk aan het college!), zet ze dan wel in het dataframe hieronder, \n",
    "# maar gebruik een '#' om de regel uit te commenteren, zoals we bij de laatste meting voorgedaan hebben.\n",
    "\n",
    "                \n",
    "dataSanityCheck =pd.DataFrame(columns=[\"xs\", \"ys\", \"xr\", \"yr\", \"R\"], data=[\n",
    "    [0,40,0,30,1.0],\n",
    "    [0,30,0,20,2.0],\n",
    "    [0,10,0,20,3.0],\n",
    "    [40,0,30,0,4.0],\n",
    "    [30,0,20,0,5.0],\n",
    "    [10,0,20,0,6.0],\n",
    "    [10,0,0,10,7.0]    \n",
    "    ])\n",
    "\n",
    "resultaatSanityCheck = imagingDEF.imagingDEF(dataSanityCheck)"
   ]
  },
  {
   "cell_type": "code",
   "execution_count": null,
   "id": "f9d12aad-f411-4bf8-b220-8c4b09ab4959",
   "metadata": {},
   "outputs": [],
   "source": [
    "# Run deze cel om jullie resultaten te kunnen zien.\n",
    "txt='x0: {x0:.1f} cm met een standaardafwijking van {x0_eps:.1f} cm \\r\\n'\n",
    "txt = txt + 'y0: {y0:.1f} cm met een standaardafwijking van {y0_eps:.1f} cm \\r\\n'\n",
    "txt = txt + 'alpha: {alpha:.1f} graden met een standaardafwijking van {alpha_eps:.1f} graad \\r\\n'\n",
    "txt = txt + 'beta: {beta:.1f} graden met een standaardafwijking van {beta_eps:.1f} graad \\r\\n'\n",
    "print(txt.format(x0=resultaatSanityCheck['x0'],\n",
    "                 x0_eps=resultaatSanityCheck['x0_eps'],\n",
    "                 y0=resultaatSanityCheck['y0'],\n",
    "                 y0_eps=resultaatSanityCheck['y0_eps'],\n",
    "                 alpha=resultaatSanityCheck['alpha'],\n",
    "                 alpha_eps=resultaatSanityCheck['alpha_eps'],\n",
    "                 beta=resultaatSanityCheck['beta'],\n",
    "                 beta_eps=resultaatSanityCheck['beta_eps']))"
   ]
  },
  {
   "cell_type": "markdown",
   "id": "8fac3b60-7bed-41f5-bf99-fdad9fa10eb0",
   "metadata": {},
   "source": [
    "## Opdracht 5: iteratie 0 "
   ]
  },
  {
   "cell_type": "markdown",
   "id": "6960fa9a-f3a5-42c5-842d-6fa9a6e3fa1c",
   "metadata": {},
   "source": [
    "#### algoritme [naam eerste student]\n",
    "Voeg een foto in van het algoritme van het eerste groepslid\n",
    "<img src=\"tudelftLogo.png\" width=\"400\">\n",
    "\n",
    "#### algoritme [naam tweede student]\n",
    "Voeg een foto in van het algoritme van het tweede groepslid\n",
    "<img src=\"tudelftLogo.png\" width=\"400\">\n",
    "\n",
    "#### algoritme [naam derde student]\n",
    "Voeg een foto in van het algoritme van het derde groepslid\n",
    "<img src=\"tudelftLogo.png\" width=\"400\">"
   ]
  },
  {
   "cell_type": "code",
   "execution_count": null,
   "id": "c36f3c85-63a3-48ef-a5e3-646ec498868c",
   "metadata": {},
   "outputs": [],
   "source": [
    "# voeg hier eventueel code toe die je nodig hebt om je algoritme uit te voeren. Dit is optioneel!"
   ]
  },
  {
   "cell_type": "markdown",
   "id": "f92b7cef-f818-4479-bfb9-82a15568e433",
   "metadata": {},
   "source": [
    "## Opdracht 6: Test iteratie 0."
   ]
  },
  {
   "cell_type": "code",
   "execution_count": null,
   "id": "6cf3340a-d335-4252-9823-3e0f3eb2390b",
   "metadata": {},
   "outputs": [],
   "source": [
    "# voeg hier je meetgegevens van deze iteratie in:\n",
    "\n",
    "# vul onderstaande in met jullie gekozen posities van het reflecterende papier\n",
    "targets = {'x0':#zelf aanvullen,\n",
    "           'y0':#zelf aanvullen,\n",
    "           'alpha' : #zelf aanvullen,\n",
    "           'beta' : #zelf aanvullen},\n",
    "          }\n",
    "           \n",
    "\n",
    "# vul onderstaande matrixen aan met je gemeten meetgegevens. Als je twee algoritmes test, haal dan het hele blok \n",
    "# bij 'naam3' weg. Zorg natuurlijk dat de arrays en structures netjes afsluiten met ), ] of } op de juiste plekken.\n",
    "\n",
    "data ={'naam1' :  pd.DataFrame(columns=[\"xs\", \"ys\", \"xr\", \"yr\", \"R\"], data=[\n",
    "    #zelf aanvullen\n",
    "    ]),\n",
    "       'naam2' : pd.DataFrame(columns=[\"xs\", \"ys\", \"xr\", \"yr\", \"R\"], data=[\n",
    "    #zelf aanvullen\n",
    "    ]),\n",
    "       'naam3' : pd.DataFrame(columns=[\"xs\", \"ys\", \"xr\", \"yr\", \"R\"], data=[\n",
    "    #zelf aanvullen\n",
    "    ])\n",
    "      }"
   ]
  },
  {
   "cell_type": "markdown",
   "id": "ab08bc76-1e7d-41a8-96b1-9d4b6c8a50a2",
   "metadata": {},
   "source": [
    "## Opdracht 7: Evaluatie."
   ]
  },
  {
   "cell_type": "code",
   "execution_count": null,
   "id": "03bc2b19-9e62-4574-9ca6-be571d84e771",
   "metadata": {},
   "outputs": [],
   "source": [
    "#Hier runnen we het imaging algorime: \n",
    "resultaat = dict()\n",
    "\n",
    "for studentName in studentNames:\n",
    "    print(studentName)\n",
    "    resultaat[studentName] = imagingDEF.imagingDEF(data[studentName])\n",
    "    print(resultaat[studentName])"
   ]
  },
  {
   "cell_type": "code",
   "execution_count": null,
   "id": "d05a00a2-b4af-44af-934c-5d476fc14c6a",
   "metadata": {},
   "outputs": [],
   "source": [
    "# Run deze cel om jullie resultaten naast elkaar te kunnen zien.\n",
    "for studentName in studentNames:\n",
    "    txt='{naam} \\r\\nx0 target is : {x0Target:.1f}. Gevonden waarde: {x0:.1f} cm met een standaardafwijking van {x0_eps:.1f} cm \\r\\n'\n",
    "    txt = txt + 'y0 target is : {y0Target:.1f}. Gevonden waarde: {y0:.1f} cm met een standaardafwijking van {y0_eps:.1f} cm \\r\\n'\n",
    "    txt = txt + 'alpha target is : {alphaTarget:.1f}. Gevonden waarde: {alpha:.1f} graden met een standaardafwijking van {alpha_eps:.1f} graad \\r\\n'\n",
    "    txt = txt + 'beta target is : {betaTarget:.1f}. Gevonden waarde: {beta:.1f} graden met een standaardafwijking van {beta_eps:.1f} graad \\r\\n'\n",
    "    print(txt.format(naam = studentName,\n",
    "                     x0Target=targets['x0'],\n",
    "                     x0=resultaat[studentName]['x0'],\n",
    "                     x0_eps=resultaat[studentName]['x0_eps'],\n",
    "                     y0Target=targets['y0'],\n",
    "                     y0=resultaat[studentName]['y0'],\n",
    "                     y0_eps=resultaat[studentName]['y0_eps'],\n",
    "                     alphaTarget=targets['alpha'],\n",
    "                     alpha=resultaat[studentName]['alpha'],\n",
    "                     alpha_eps=resultaat[studentName]['alpha_eps'],\n",
    "                     betaTarget=targets['beta'],\n",
    "                     beta=resultaat[studentName]['beta'],\n",
    "                     beta_eps=resultaat[studentName]['beta_eps']))"
   ]
  },
  {
   "cell_type": "markdown",
   "id": "452839a5-6f3b-4fa4-a794-1cb50f10a631",
   "metadata": {},
   "source": [
    "## Opdracht 8: Iteratie1+.VERVANG DEZE TEKST DOOR DE TIJD WANNEER JE AAN DEZE ITERATIE BEGINT.\n",
    "### Synthese\n",
    "Maak een nieuwe blokkenschema op A3 van wat je nu als algoritme gaat proberen. Als het kleine wijzigingen zijn ten opzichte van een vorige iteratie, kras dan gewoon in de oude blokkenschema als dat duidelijk blijft. Maak een foto en zet die hieronder. Zorg dat het iteratienummer goed op de foto te zien is.\n",
    "\n",
    "Figuur: ![Alt](tudelftLogo.png)\n"
   ]
  },
  {
   "cell_type": "code",
   "execution_count": null,
   "id": "c2e5bdba-27d0-4951-9c76-7941b13f2714",
   "metadata": {},
   "outputs": [],
   "source": [
    "# voeg hier eventueel (nieuwe) code toe die je nodig hebt om je algoritme uit te voeren. Dit is optioneel!"
   ]
  },
  {
   "cell_type": "markdown",
   "id": "0c555c54-e6a6-450e-9f2f-e591a03b6cfb",
   "metadata": {},
   "source": [
    "## Opdracht 9: Iteratie 1+ meeting en test"
   ]
  },
  {
   "cell_type": "code",
   "execution_count": null,
   "id": "d4782571-535a-49f6-b7fa-4bdb4de356ed",
   "metadata": {},
   "outputs": [],
   "source": [
    "# voeg hier je meetgegevens van deze iteratie in:\n",
    "\n",
    "# vul onderstaande in met jullie gekozen locaties van het reflecterende papier\n",
    "targets = {'locatie 1':{'x0':#zelf aanvullen,\n",
    "                    'y0':#zelf aanvullen,\n",
    "                    'alpha' : #zelf aanvullen,\n",
    "                    'beta' : #zelf aanvullen},\n",
    "           'locatie 2':{'x0':#zelf aanvullen,\n",
    "                    'y0':#zelf aanvullen,\n",
    "                    'alpha' : #zelf aanvullen,\n",
    "                    'beta' : #zelf aanvullen}\n",
    "            }\n",
    "           \n",
    "\n",
    "# vul onderstaande matrixen aan met je gemeten meetgegevens.\n",
    "\n",
    "data ={'locatie 1' :  pd.DataFrame(columns=[\"xs\", \"ys\", \"xr\", \"yr\", \"R\"], data=[\n",
    "    #zelf aanvullen\n",
    "    ]),\n",
    "       'locatie 2' : pd.DataFrame(columns=[\"xs\", \"ys\", \"xr\", \"yr\", \"R\"], data=[\n",
    "    #zelf aanvullen\n",
    "    ])\n",
    "      }\n",
    "                        \n",
    "                        \n",
    "#Hier runnen we het imaging algorime: \n",
    "resultaat = dict()\n",
    "\n",
    "for locatie in targets:\n",
    "    print(locatie)\n",
    "    resultaat[locatie] = imagingDEF.imagingDEF(data[locatie])\n",
    "    print(resultaat[locatie])\n",
    "\n",
    "                        \n",
    "#en hier laten we de resultaten als text zien.                        \n",
    "for locatie in targets:\n",
    "    txt='{naam} \\r\\nx0 target is : {x0Target:.1f}. Gevonden waarde: {x0:.1f} cm met een standaardafwijking van {x0_eps:.1f} cm \\r\\n'\n",
    "    txt = txt + 'y0 target is : {y0Target:.1f}. Gevonden waarde: {y0:.1f} cm met een standaardafwijking van {y0_eps:.1f} cm \\r\\n'\n",
    "    txt = txt + 'alpha target is : {alphaTarget:.1f}. Gevonden waarde: {alpha:.1f} graden met een standaardafwijking van {alpha_eps:.1f} graad \\r\\n'\n",
    "    txt = txt + 'beta target is : {betaTarget:.1f}. Gevonden waarde: {beta:.1f} graden met een standaardafwijking van {beta_eps:.1f} graad \\r\\n'\n",
    "    print(txt.format(naam = locatie,\n",
    "                     x0Target=targets[locatie]['x0'],\n",
    "                     x0=resultaat[locatie]['x0'],\n",
    "                     x0_eps=resultaat[locatie]['x0_eps'],\n",
    "                     y0Target=targets[locatie]['y0'],\n",
    "                     y0=resultaat[locatie]['y0'],\n",
    "                     y0_eps=resultaat[locatie]['y0_eps'],\n",
    "                     alphaTarget=targets[locatie]['alpha'],\n",
    "                     alpha=resultaat[locatie]['alpha'],\n",
    "                     alpha_eps=resultaat[locatie]['alpha_eps'],\n",
    "                     betaTarget=targets[locatie]['beta'],\n",
    "                     beta=resultaat[locatie]['beta'],\n",
    "                     beta_eps=resultaat[locatie]['beta_eps']))"
   ]
  },
  {
   "cell_type": "markdown",
   "id": "ed5ac3a1-81a4-404e-bb1e-80e835ea3873",
   "metadata": {},
   "source": [
    "## Opdracht 10: uiteindelijke test met locatie gegeven door TA"
   ]
  },
  {
   "cell_type": "code",
   "execution_count": null,
   "id": "4ed444a3-6c76-4a35-897b-93edda79e86d",
   "metadata": {},
   "outputs": [],
   "source": [
    "# voeg hier je meetgegevens van de uiteindelijke test in:\n",
    "\n",
    "# vul onderstaande in met jullie locaties van het reflecterende papier gegeven\n",
    "# door jullie TA\n",
    "targets = {'test locatie':{\n",
    "                    'x0':#zelf aanvullen,\n",
    "                    'y0':#zelf aanvullen,\n",
    "                    'alpha' : #zelf aanvullen,\n",
    "                    'beta' : #zelf aanvullen\n",
    "                          }\n",
    "            }\n",
    "           \n",
    "\n",
    "# vul onderstaande matrixen aan met je gemeten meetgegevens.\n",
    "\n",
    "dataFinalCheck ={'test locatie' :  pd.DataFrame(columns=[\"xs\", \"ys\", \"xr\", \"yr\", \"R\"], data=[\n",
    "                    #zelf aanvullen\n",
    "                    ])\n",
    "                }\n",
    "\n",
    "#Hier runnen we het imaging algorime: \n",
    "resultaat = dict()\n",
    "\n",
    "for locatie in targets:\n",
    "    print(locatie)\n",
    "    resultaat[locatie] = imagingDEF.imagingDEF(data[locatie])\n",
    "    print(resultaat[locatie])\n",
    "\n",
    "    \n",
    "# Run deze cel om jullie resultaten naast elkaar te kunnen zien.\n",
    "for locatie in targets:\n",
    "    txt='{naam} \\r\\nx0 target is : {x0Target:.1f}. Gevonden waarde: {x0:.1f} cm met een standaardafwijking van {x0_eps:.1f} cm \\r\\n'\n",
    "    txt = txt + 'y0 target is : {y0Target:.1f}. Gevonden waarde: {y0:.1f} cm met een standaardafwijking van {y0_eps:.1f} cm \\r\\n'\n",
    "    txt = txt + 'alpha target is : {alphaTarget:.1f}. Gevonden waarde: {alpha:.1f} graden met een standaardafwijking van {alpha_eps:.1f} graad \\r\\n'\n",
    "    txt = txt + 'beta target is : {betaTarget:.1f}. Gevonden waarde: {beta:.1f} graden met een standaardafwijking van {beta_eps:.1f} graad \\r\\n'\n",
    "    print(txt.format(naam = locatie,\n",
    "                     x0Target=targets[locatie]['x0'],\n",
    "                     x0=resultaat[locatie]['x0'],\n",
    "                     x0_eps=resultaat[locatie]['x0_eps'],\n",
    "                     y0Target=targets[locatie]['y0'],\n",
    "                     y0=resultaat[locatie]['y0'],\n",
    "                     y0_eps=resultaat[locatie]['y0_eps'],\n",
    "                     alphaTarget=targets[locatie]['alpha'],\n",
    "                     alpha=resultaat[locatie]['alpha'],\n",
    "                     alpha_eps=resultaat[locatie]['alpha_eps'],\n",
    "                     betaTarget=targets[locatie]['beta'],\n",
    "                     beta=resultaat[locatie]['beta'],\n",
    "                     beta_eps=resultaat[locatie]['beta_eps']))"
   ]
  },
  {
   "cell_type": "markdown",
   "id": "93a475df-c0a0-4aff-b4f6-10b0b6cc754a",
   "metadata": {},
   "source": [
    "## Opdracht 11: leerdoelen.\n",
    "Figuur: ![Alt](tudelftLogo.png \"Title\")\n",
    "\n",
    "Figuur: ![Alt](tudelftLogo.png \"Title\")\n",
    "\n",
    "Figuur: ![Alt](tudelftLogo.png \"Title\")"
   ]
  }
 ],
 "metadata": {
  "kernelspec": {
   "display_name": "Python [conda env:base] *",
   "language": "python",
   "name": "conda-base-py"
  },
  "language_info": {
   "codemirror_mode": {
    "name": "ipython",
    "version": 3
   },
   "file_extension": ".py",
   "mimetype": "text/x-python",
   "name": "python",
   "nbconvert_exporter": "python",
   "pygments_lexer": "ipython3",
   "version": "3.9.13"
  }
 },
 "nbformat": 4,
 "nbformat_minor": 5
}
