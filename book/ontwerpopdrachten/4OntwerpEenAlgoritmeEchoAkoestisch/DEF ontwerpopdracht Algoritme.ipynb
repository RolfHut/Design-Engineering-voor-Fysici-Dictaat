{
 "cells": [
  {
   "cell_type": "markdown",
   "metadata": {},
   "source": [
    "# Ontwerpopdracht 4: Echo akoestisch algoritme.\n",
   ]
  },
  "### Groepsinformatie\n",
    "\n",
    "Aan het einde van deze ontwerpopdracht lever je als groep één gezamenlijk notebook in. Zet jullie groepsnummer, studienummers en namen in onderstaande tabel zodat wij zeker weten dat het groepsvormen goed is gegaan.\n",
    "\n",
  {
   "cell_type": "markdown",
   "metadata": {},
   "source": [
    "| Groep: XX     |  |\n",
    "| :-------------|:-------------|\n",
    "| Student naam 1| Student Studienummer 1 |\n",
    "| Student naam 2| Student Studienummer 2 |\n",
    "| Student naam 3| Student Studienummer 3 |"
   ]
  },
  {
   "cell_type": "code",
   "execution_count": null,
   "metadata": {
    "collapsed": true
   },
   "outputs": [],
   "source": [
    "#Vul ook hieronder jullie namen in en run deze cel. \n",
    "# Dat is nodig voor de code die je verderop in dit notebook gaat runnen\n",
    "\n",
    "studentNames = ['naam1', 'naam2','naam3']"
   ]
  },
  {
   "cell_type": "markdown",
   "metadata": {
    "deletable": false,
    "editable": false,
    "nbgrader": {
     "grade": false,
     "locked": true,
     "solution": false
    }
   },
   "source": [
   "## Opdracht 1: Planning."
    ]
  },
  {
   "cell_type": "markdown",
   "metadata": {},
   "source": [
    "| Planning Groep: XX     |Tijdstip / Tijdspanne  |\n",
    "|---|---|\n",
    "| Mijlpaal 1 | Tijdstip |\n",
    "| Mijlpaal 2 | Tijdstip |\n",
    "| groep aanwezig 1| Tijdspanne |\n",
    "| groep aanwezig 2| Tijdspanne |\n",
    "| Pauze 1| Tijdspanne |\n",
    "| Pauze 2| Tijdspanne |"
   ]
  },
  {
   "cell_type": "markdown",
   "metadata": {
    "deletable": false,
    "editable": false,
    "nbgrader": {
     "grade": false,
     "locked": true,
     "solution": false
    }
   },
   "source": [
    "##Opdracht 2: Load libs."
   ]
  },
  {
   "cell_type": "code",
   "execution_count": 1,
   "metadata": {
    "collapsed": true,
    "scrolled": true
   },
   "outputs": [],
   "source": [
    "%matplotlib inline\n",
    "import matplotlib.pyplot as plt\n",
    "import pandas as pd\n",
    "import numpy as np\n",
    "import random\n",
    "import time\n",
    "\n",
    "#dit is onze eigen library waar het imaging algoritme in staat\n",
    "import imagingDEF2024 as imagingDEF"
   ]
  },

  {
   "cell_type": "markdown",
   "metadata": {
    "deletable": false,
    "editable": false,
    "nbgrader": {
     "grade": false,
     "locked": true,
     "solution": false
    }
   },
   "source": [
    "## Opdracht 3: Kalibratie met foto."
   ]
  },
  {
   "cell_type": "markdown",
   "metadata": {},
   "source": [
    "kalibratie-opstelling groep [nummer]\n",
    "<img src=\"thuismeting1.jpg\" width=\"400\">"
   ]
  },
  {
   "cell_type": "code",
   "execution_count": null,
   "metadata": {
    "collapsed": true
   },
   "outputs": [],
   "source": [
    "# verwerk hier jullie kalibratiemetingen"
   ]
  },
  {
   "cell_type": "markdown",
   "metadata": {
    "deletable": false,
    "editable": false,
    "nbgrader": {
     "grade": false,
     "locked": true,
     "solution": false
    }
   },
   "source": [
   "## Opdracht 4: Verwerking data."
   ]
  },
  {
   "cell_type": "code",
   "execution_count": 3,
   "metadata": {},
   "outputs": [
    {
     "name": "stdout",
     "output_type": "stream",
     "text": [
      "Running the imaging algorithm with the following data:\n",
      "   xs  ys  xr  yr    R\n",
      "0   0  40   0  30  1.0\n",
      "1   0  30   0  20  2.0\n",
      "2   0  10   0  20  3.0\n",
      "3  40   0  30   0  4.0\n",
      "4  30   0  20   0  5.0\n",
      "5  10   0  20   0  6.0\n",
      "6  10   0   0  10  7.0\n"
     ]
    },
    {
     "name": "stderr",
     "output_type": "stream",
     "text": [
      "/mnt/data2/students/sub1/ddd_v1_t_PBBY_111493/work/asn922661_3/asn923412_2/work/imagingDEF2024.py:412: RuntimeWarning: invalid value encountered in sqrt\n",
      "  d = 0.5 * np.sqrt(R * R - offset * offset)\n"
     ]
    },
    {
     "data": {
      "image/png": "iVBORw0KGgoAAAANSUhEUgAAAfQAAAHwCAYAAABQR52cAAAABHNCSVQICAgIfAhkiAAAAAlwSFlz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\nRK5CYII=\n",
      "text/plain": [
       "<Figure size 576x576 with 1 Axes>"
      ]
     },
     "metadata": {},
     "output_type": "display_data"
    },
    {
     "name": "stdout",
     "output_type": "stream",
     "text": [
      "\n",
      "Wacht tot berekeningen klaar zijn; er komen  30 iteraties ...\n",
      "\n",
      "end iteration 1 with average mismatch=145.594\n"
     ]
    },
    {
     "data": {
      "image/png": "iVBORw0KGgoAAAANSUhEUgAAAfQAAAHwCAYAAABQR52cAAAABHNCSVQICAgIfAhkiAAAAAlwSFlz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\nrkJggg==\n",
      "text/plain": [
       "<Figure size 576x576 with 1 Axes>"
      ]
     },
     "metadata": {},
     "output_type": "display_data"
    },
    {
     "name": "stdout",
     "output_type": "stream",
     "text": [
      "end iteration 2 with average mismatch=131.644\n"
     ]
    },
    {
     "data": {
      "image/png": "iVBORw0KGgoAAAANSUhEUgAAAfQAAAHwCAYAAABQR52cAAAABHNCSVQICAgIfAhkiAAAAAlwSFlz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\nAElFTkSuQmCC\n",
      "text/plain": [
       "<Figure size 576x576 with 1 Axes>"
      ]
     },
     "metadata": {},
     "output_type": "display_data"
    },
    {
     "name": "stdout",
     "output_type": "stream",
     "text": [
      "end iteration 3 with average mismatch=108.812\n"
     ]
    },
    {
     "data": {
      "image/png": "iVBORw0KGgoAAAANSUhEUgAAAfQAAAHwCAYAAABQR52cAAAABHNCSVQICAgIfAhkiAAAAAlwSFlz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\n",
      "text/plain": [
       "<Figure size 576x576 with 1 Axes>"
      ]
     },
     "metadata": {},
     "output_type": "display_data"
    },
    {
     "name": "stdout",
     "output_type": "stream",
     "text": [
      "end iteration 4 with average mismatch=72.787\n"
     ]
    },
    {
     "data": {
      "image/png": "iVBORw0KGgoAAAANSUhEUgAAAfQAAAHwCAYAAABQR52cAAAABHNCSVQICAgIfAhkiAAAAAlwSFlz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\nAKBpAAAAAElFTkSuQmCC\n",
      "text/plain": [
       "<Figure size 576x576 with 1 Axes>"
      ]
     },
     "metadata": {},
     "output_type": "display_data"
    },
    {
     "name": "stdout",
     "output_type": "stream",
     "text": [
      "end iteration 5 with average mismatch=29.230\n"
     ]
    },
    {
     "data": {
      "image/png": "iVBORw0KGgoAAAANSUhEUgAAAfQAAAHwCAYAAABQR52cAAAABHNCSVQICAgIfAhkiAAAAAlwSFlz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\nUgEY6JIkFcD/B9ifeIJNgwYDAAAAAElFTkSuQmCC\n",
      "text/plain": [
       "<Figure size 576x576 with 1 Axes>"
      ]
     },
     "metadata": {},
     "output_type": "display_data"
    },
    {
     "name": "stdout",
     "output_type": "stream",
     "text": [
      "end iteration 6 with average mismatch=11.406\n",
      "end iteration 7 with average mismatch=10.407\n",
      "end iteration 8 with average mismatch=10.313\n",
      "end iteration 9 with average mismatch=10.295\n",
      "end iteration 10 with average mismatch=10.295\n",
      "end iteration 11 with average mismatch=10.295\n",
      "end iteration 12 with average mismatch=10.260\n",
      "end iteration 13 with average mismatch=10.260\n",
      "end iteration 14 with average mismatch=10.260\n",
      "end iteration 15 with average mismatch=10.260\n",
      "end iteration 16 with average mismatch=10.253\n",
      "end iteration 17 with average mismatch=10.253\n",
      "end iteration 18 with average mismatch=10.253\n",
      "end iteration 19 with average mismatch=10.253\n",
      "end iteration 20 with average mismatch=10.253\n",
      "end iteration 21 with average mismatch=10.253\n",
      "end iteration 22 with average mismatch=10.253\n",
      "end iteration 23 with average mismatch=10.253\n",
      "end iteration 24 with average mismatch=10.253\n",
      "end iteration 25 with average mismatch=10.253\n",
      "end iteration 26 with average mismatch=10.253\n",
      "end iteration 27 with average mismatch=10.253\n",
      "end iteration 28 with average mismatch=10.253\n",
      "end iteration 29 with average mismatch=10.208\n",
      "Last iteration, also determine uncertainty, wait a while..\n",
      "wait a little longer....\n",
      "wait a little longer....\n",
      "end iteration 30 with average mismatch=10.208\n",
      "###############################################################################\n",
      "end of iteration  30\n",
      "Best alpha= -30.15 with uncertainty=   3.83\n",
      "Best beta = -42.49 with uncertainty=   1.90\n",
      "Best x0   =  11.72 with uncertainty=   0.78\n",
      "Best y0   =   8.91 with uncertainty=   0.39\n",
      "###############################################################################\n"
     ]
    },
    {
     "data": {
      "image/png": "iVBORw0KGgoAAAANSUhEUgAAAfQAAAHwCAYAAABQR52cAAAABHNCSVQICAgIfAhkiAAAAAlwSFlz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\ngg4AAYIOAAGCDgABgg4AAQPvY6VN1fuQkgAAAABJRU5ErkJggg==\n",
      "text/plain": [
       "<Figure size 576x576 with 1 Axes>"
      ]
     },
     "metadata": {},
     "output_type": "display_data"
    }
   ],
   "source": [
    "# vul onderstaande matrixen aan met jullie meetgegevens. De getallen 1.0, 2.0, 3.0, 4.0, 5.0, 6.0 en 7.0 \n",
    "# moet je door je eigen metingen (in cm!) vervangen.\n",
    "# let op dat de meting een totale afstand die het geluid afgelegd heeft moet zijn.\n",
    "\n",
    "# als je ongeldige metingen hebt (denk aan het college!), zet ze dan wel in het dataframe hieronder, \n",
    "# maar gebruik een '#' om de regel uit te commenteren, zoals we bij de laatste meting voorgedaan hebben.\n",
    "\n",
    "                \n",
    "dataSanityCheck =pd.DataFrame(columns=[\"xs\", \"ys\", \"xr\", \"yr\", \"R\"], data=[\n",
    "    [0,40,0,30,1.0],\n",
    "    [0,30,0,20,2.0],\n",
    "    [0,10,0,20,3.0],\n",
    "    [40,0,30,0,4.0],\n",
    "    [30,0,20,0,5.0],\n",
    "    [10,0,20,0,6.0],\n",
    "    [10,0,0,10,7.0]    \n",
    "    ])\n",
    "\n",
    "resultaatSanityCheck = imagingDEF.imagingDEF(dataSanityCheck)"
   ]
  },
  {
   "cell_type": "code",
   "execution_count": 4,
   "metadata": {},
   "outputs": [
    {
     "name": "stdout",
     "output_type": "stream",
     "text": [
      "x0: 11.7 cm met een standaardafwijking van 0.8 cm \r\n",
      "y0: 8.9 cm met een standaardafwijking van 0.4 cm \r\n",
      "alpha: -30.1 graden met een standaardafwijking van 3.8 graad \r\n",
      "beta: -42.5 graden met een standaardafwijking van 1.9 graad \r\n",
      "\n"
     ]
    }
   ],
   "source": [
    "# Run deze cel om jullie resultaten te kunnen zien.\n",
    "txt='x0: {x0:.1f} cm met een standaardafwijking van {x0_eps:.1f} cm \\r\\n'\n",
    "txt = txt + 'y0: {y0:.1f} cm met een standaardafwijking van {y0_eps:.1f} cm \\r\\n'\n",
    "txt = txt + 'alpha: {alpha:.1f} graden met een standaardafwijking van {alpha_eps:.1f} graad \\r\\n'\n",
    "txt = txt + 'beta: {beta:.1f} graden met een standaardafwijking van {beta_eps:.1f} graad \\r\\n'\n",
    "print(txt.format(x0=resultaatSanityCheck['x0'],\n",
    "                 x0_eps=resultaatSanityCheck['x0_eps'],\n",
    "                 y0=resultaatSanityCheck['y0'],\n",
    "                 y0_eps=resultaatSanityCheck['y0_eps'],\n",
    "                 alpha=resultaatSanityCheck['alpha'],\n",
    "                 alpha_eps=resultaatSanityCheck['alpha_eps'],\n",
    "                 beta=resultaatSanityCheck['beta'],\n",
    "                 beta_eps=resultaatSanityCheck['beta_eps']))\n"
   ]
  },

  {
   "cell_type": "markdown",
   "metadata": {
    "deletable": false,
    "editable": false,
    "nbgrader": {
     "grade": false,
     "locked": true,
     "solution": false
    }
   },
   "source": [
    "## Opdracht 5: Iteratie 0"
   ]
  },
  {
   "cell_type": "markdown",
   "metadata": {},
   "source": [
    "#### algoritme [naam eerste student]\n",
    "Voeg een foto in van het algoritme van het eerste groepslid\n",
    "<img src=\"tudelftLogo.png\" width=\"400\">\n",
    "\n",
    "#### algoritme [naam tweede student]\n",
    "Voeg een foto in van het algoritme van het tweede groepslid\n",
    "<img src=\"tudelftLogo.png\" width=\"400\">\n",
    "\n",
    "#### algoritme [naam derde student]\n",
    "Voeg een foto in van het algoritme van het derde groepslid\n",
    "<img src=\"tudelftLogo.png\" width=\"400\">\n"
   ]
  },
  {
   "cell_type": "code",
   "execution_count": null,
   "metadata": {
    "collapsed": true
   },
   "outputs": [],
   "source": [
    "# voeg hier eventueel code toe die je nodig hebt om je algoritme uit te voeren. Dit is optioneel!"
   ]
  },
  {
   "cell_type": "markdown",
   "metadata": {
    "deletable": false,
    "editable": false,
    "nbgrader": {
     "grade": false,
     "locked": true,
     "solution": false
    }
   },
   "source": [
    "Opdracht 6: invullen meetgegevens"
   ]
  },
  {
   "cell_type": "code",
   "execution_count": null,
   "metadata": {
    "collapsed": true
   },
   "outputs": [],
   "source": [
    "# voeg hier je meetgegevens van deze iteratie in:\n",
    "\n",
    "# vul onderstaande in met jullie gekozen posities van het reflecterende papier\n",
    "targets = {'x0':#zelf aanvullen,\n",
    "           'y0':#zelf aanvullen,\n",
    "           'alpha' : #zelf aanvullen,\n",
    "           'beta' : #zelf aanvullen},\n",
    "          }\n",
    "           \n",
    "\n",
    "# vul onderstaande matrixen aan met je gemeten meetgegevens. Als je twee algoritmes test, haal dan het hele blok \n",
    "# bij 'naam3' weg. Zorg natuurlijk dat de arrays en structures netjes afsluiten met ), ] of } op de juiste plekken.\n",
    "\n",
    "data ={'naam1' :  pd.DataFrame(columns=[\"xs\", \"ys\", \"xr\", \"yr\", \"R\"], data=[\n",
    "    #zelf aanvullen\n",
    "    ]),\n",
    "       'naam2' : pd.DataFrame(columns=[\"xs\", \"ys\", \"xr\", \"yr\", \"R\"], data=[\n",
    "    #zelf aanvullen\n",
    "    ]),\n",
    "       'naam3' : pd.DataFrame(columns=[\"xs\", \"ys\", \"xr\", \"yr\", \"R\"], data=[\n",
    "    #zelf aanvullen\n",
    "    ])\n",
    "      }"
   ]
  },
  {
   "cell_type": "markdown",
   "metadata": {
    "deletable": false,
    "editable": false,
    "nbgrader": {
     "grade": false,
     "locked": true,
     "solution": false
    }
   },
   "source": [
    "Opdracht 7: verwerken data."
   ]
  },
  {
   "cell_type": "code",
   "execution_count": null,
   "metadata": {
    "collapsed": true
   },
   "outputs": [],
   "source": [
    "#Hier runnen we het imaging algorime: \n",
    "resultaat = dict()\n",
    "\n",
    "for studentName in studentNames:\n",
    "    print(studentName)\n",
    "    resultaat[studentName] = imagingDEF.imagingDEF(data[studentName])\n",
    "    print(resultaat[studentName])"
   ]
  },
  {
   "cell_type": "code",
   "execution_count": null,
   "metadata": {
    "collapsed": true
   },
   "outputs": [],
   "source": [
    "# Run deze cel om jullie resultaten naast elkaar te kunnen zien.\n",
    "for studentName in studentNames:\n",
    "    txt='{naam} \\r\\nx0 target is : {x0Target:.1f}. Gevonden waarde: {x0:.1f} cm met een standaardafwijking van {x0_eps:.1f} cm \\r\\n'\n",
    "    txt = txt + 'y0 target is : {y0Target:.1f}. Gevonden waarde: {y0:.1f} cm met een standaardafwijking van {y0_eps:.1f} cm \\r\\n'\n",
    "    txt = txt + 'alpha target is : {alphaTarget:.1f}. Gevonden waarde: {alpha:.1f} graden met een standaardafwijking van {alpha_eps:.1f} graad \\r\\n'\n",
    "    txt = txt + 'beta target is : {betaTarget:.1f}. Gevonden waarde: {beta:.1f} graden met een standaardafwijking van {beta_eps:.1f} graad \\r\\n'\n",
    "    print(txt.format(naam = studentName,\n",
    "                     x0Target=targets['x0'],\n",
    "                     x0=resultaat[studentName]['x0'],\n",
    "                     x0_eps=resultaat[studentName]['x0_eps'],\n",
    "                     y0Target=targets['y0'],\n",
    "                     y0=resultaat[studentName]['y0'],\n",
    "                     y0_eps=resultaat[studentName]['y0_eps'],\n",
    "                     alphaTarget=targets['alpha'],\n",
    "                     alpha=resultaat[studentName]['alpha'],\n",
    "                     alpha_eps=resultaat[studentName]['alpha_eps'],\n",
    "                     betaTarget=targets['beta'],\n",
    "                     beta=resultaat[studentName]['beta'],\n",
    "                     beta_eps=resultaat[studentName]['beta_eps']))"
   ]
  },
  {
   "cell_type": "markdown",
   "metadata": {},
   "source": [
    "Opdracht 8: Iteratie 1+"
    "VERVANG DEZE TEKST DOOR DE TIJD WANNEER JE AAN DEZE ITERATIE BEGINT.\n",
    "Figuur: ![Alt](tudelftLogo.png \"Title\")\n"
   ]
  },
  {
   "cell_type": "code",
   "execution_count": null,
   "metadata": {
    "collapsed": true
   },
   "outputs": [],
   "source": [
    "# voeg hier eventueel (nieuwe) code toe die je nodig hebt om je algoritme uit te voeren. Dit is optioneel!"
   ]
  },
  {
   "cell_type": "markdown",
   "metadata": {},
   "source": [
    "Opdracht 9: Verwerking data."
   ]
  },
  {
   "cell_type": "code",
   "execution_count": null,
   "metadata": {
    "collapsed": true
   },
   "outputs": [],
   "source": [
    "# voeg hier je meetgegevens van deze iteratie in:\n",
    "\n",
    "# vul onderstaande in met jullie gekozen locaties van het reflecterende papier\n",
    "targets = {'locatie 1':{'x0':#zelf aanvullen,\n",
    "                    'y0':#zelf aanvullen,\n",
    "                    'alpha' : #zelf aanvullen,\n",
    "                    'beta' : #zelf aanvullen},\n",
    "           'locatie 2':{'x0':#zelf aanvullen,\n",
    "                    'y0':#zelf aanvullen,\n",
    "                    'alpha' : #zelf aanvullen,\n",
    "                    'beta' : #zelf aanvullen}\n",
    "            }\n",
    "           \n",
    "\n",
    "# vul onderstaande matrixen aan met je gemeten meetgegevens.\n",
    "\n",
    "data ={'locatie 1' :  pd.DataFrame(columns=[\"xs\", \"ys\", \"xr\", \"yr\", \"R\"], data=[\n",
    "    #zelf aanvullen\n",
    "    ]),\n",
    "       'locatie 2' : pd.DataFrame(columns=[\"xs\", \"ys\", \"xr\", \"yr\", \"R\"], data=[\n",
    "    #zelf aanvullen\n",
    "    ])\n",
    "      }\n",
    "                        \n",
    "                        \n",
    "#Hier runnen we het imaging algorime: \n",
    "resultaat = dict()\n",
    "\n",
    "for locatie in targets:\n",
    "    print(locatie)\n",
    "    resultaat[locatie] = imagingDEF.imagingDEF(data[locatie])\n",
    "    print(resultaat[locatie])\n",
    "\n",
    "                        \n",
    "#en hier laten we de resultaten als text zien.                        \n",
    "for locatie in targets:\n",
    "    txt='{naam} \\r\\nx0 target is : {x0Target:.1f}. Gevonden waarde: {x0:.1f} cm met een standaardafwijking van {x0_eps:.1f} cm \\r\\n'\n",
    "    txt = txt + 'y0 target is : {y0Target:.1f}. Gevonden waarde: {y0:.1f} cm met een standaardafwijking van {y0_eps:.1f} cm \\r\\n'\n",
    "    txt = txt + 'alpha target is : {alphaTarget:.1f}. Gevonden waarde: {alpha:.1f} graden met een standaardafwijking van {alpha_eps:.1f} graad \\r\\n'\n",
    "    txt = txt + 'beta target is : {betaTarget:.1f}. Gevonden waarde: {beta:.1f} graden met een standaardafwijking van {beta_eps:.1f} graad \\r\\n'\n",
    "    print(txt.format(naam = locatie,\n",
    "                     x0Target=targets[locatie]['x0'],\n",
    "                     x0=resultaat[locatie]['x0'],\n",
    "                     x0_eps=resultaat[locatie]['x0_eps'],\n",
    "                     y0Target=targets[locatie]['y0'],\n",
    "                     y0=resultaat[locatie]['y0'],\n",
    "                     y0_eps=resultaat[locatie]['y0_eps'],\n",
    "                     alphaTarget=targets[locatie]['alpha'],\n",
    "                     alpha=resultaat[locatie]['alpha'],\n",
    "                     alpha_eps=resultaat[locatie]['alpha_eps'],\n",
    "                     betaTarget=targets[locatie]['beta'],\n",
    "                     beta=resultaat[locatie]['beta'],\n",
    "                     beta_eps=resultaat[locatie]['beta_eps']))"
   ]
  },

  {
   "cell_type": "markdown",
   "metadata": {
    "deletable": false,
    "editable": false,
    "nbgrader": {
     "grade": false,
     "locked": true,
     "solution": false
    }
   },
   "source": [
   "## Opdarcht 10: Nog eentje dan. "
   ]
  },
  {
   "cell_type": "code",
   "execution_count": null,
   "metadata": {
    "collapsed": true
   },
   "outputs": [],
   "source": [
    "# voeg hier je meetgegevens van de uiteindelijke test in:\n",
    "\n",
    "# vul onderstaande in met jullie gekozen locaties van het reflecterende papier\n",
    "targets = {'test locatie':{\n",
    "                    'x0':#zelf aanvullen,\n",
    "                    'y0':#zelf aanvullen,\n",
    "                    'alpha' : #zelf aanvullen,\n",
    "                    'beta' : #zelf aanvullen\n",
    "                          }\n",
    "            }\n",
    "           \n",
    "\n",
    "# vul onderstaande matrixen aan met je gemeten meetgegevens.\n",
    "\n",
    "dataFinalCheck ={'test locatie' :  pd.DataFrame(columns=[\"xs\", \"ys\", \"xr\", \"yr\", \"R\"], data=[\n",
    "                    #zelf aanvullen\n",
    "                    ])\n",
    "                }\n",
    "\n",
    "#Hier runnen we het imaging algorime: \n",
    "resultaat = dict()\n",
    "\n",
    "for locatie in targets:\n",
    "    print(locatie)\n",
    "    resultaat[locatie] = imagingDEF.imagingDEF(data[locatie])\n",
    "    print(resultaat[locatie])\n",
    "\n",
    "    \n",
    "# Run deze cel om jullie resultaten naast elkaar te kunnen zien.\n",
    "for locatie in targets:\n",
    "    txt='{naam} \\r\\nx0 target is : {x0Target:.1f}. Gevonden waarde: {x0:.1f} cm met een standaardafwijking van {x0_eps:.1f} cm \\r\\n'\n",
    "    txt = txt + 'y0 target is : {y0Target:.1f}. Gevonden waarde: {y0:.1f} cm met een standaardafwijking van {y0_eps:.1f} cm \\r\\n'\n",
    "    txt = txt + 'alpha target is : {alphaTarget:.1f}. Gevonden waarde: {alpha:.1f} graden met een standaardafwijking van {alpha_eps:.1f} graad \\r\\n'\n",
    "    txt = txt + 'beta target is : {betaTarget:.1f}. Gevonden waarde: {beta:.1f} graden met een standaardafwijking van {beta_eps:.1f} graad \\r\\n'\n",
    "    print(txt.format(naam = locatie,\n",
    "                     x0Target=targets[locatie]['x0'],\n",
    "                     x0=resultaat[locatie]['x0'],\n",
    "                     x0_eps=resultaat[locatie]['x0_eps'],\n",
    "                     y0Target=targets[locatie]['y0'],\n",
    "                     y0=resultaat[locatie]['y0'],\n",
    "                     y0_eps=resultaat[locatie]['y0_eps'],\n",
    "                     alphaTarget=targets[locatie]['alpha'],\n",
    "                     alpha=resultaat[locatie]['alpha'],\n",
    "                     alpha_eps=resultaat[locatie]['alpha_eps'],\n",
    "                     betaTarget=targets[locatie]['beta'],\n",
    "                     beta=resultaat[locatie]['beta'],\n",
    "                     beta_eps=resultaat[locatie]['beta_eps']))"
   ]
  },
  {
   "cell_type": "markdown",
   "metadata": {},
   "source": [
    "## Opdracht 11: Leerdoelen.\n",
    "Figuur: ![Alt](tudelftLogo.png \"Title\")\n",
    "\n",
    "Figuur: ![Alt](tudelftLogo.png \"Title\")\n",
    "\n",
    "Figuur: ![Alt](tudelftLogo.png \"Title\")"
   ]
  },
  {
   "cell_type": "code",
   "execution_count": null,
   "metadata": {
    "collapsed": true
   },
   "outputs": [],
   "source": []
  },
  {
   "cell_type": "code",
   "execution_count": null,
   "metadata": {
    "collapsed": true
   },
   "outputs": [],
   "source": []
  }
 ],
 "metadata": {
  "kernelspec": {
   "display_name": "Python 3 (ipykernel)",
   "language": "python",
   "name": "python3"
  },
  "language_info": {
   "codemirror_mode": {
    "name": "ipython",
    "version": 3
   },
   "file_extension": ".py",
   "mimetype": "text/x-python",
   "name": "python",
   "nbconvert_exporter": "python",
   "pygments_lexer": "ipython3",
   "version": "3.5.2"
  }
 },
 "nbformat": 4,
 "nbformat_minor": 2
}
