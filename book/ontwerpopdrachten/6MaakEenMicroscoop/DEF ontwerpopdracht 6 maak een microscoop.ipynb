{
 "cells": [
  {
   "cell_type": "markdown",
   "metadata": {
    "nbgrader": {
     "grade": false,
     "locked": false,
     "solution": false
    }
   },
   "source": [
    "# DEF ontwerpopdracht 6: Maak een microscoop\n",
    "## Introductie\n",
    "In deze ontwerpopdracht ga je een microscoop maken waarmee je in staat moet zijn om het groepsnummer op de transistor die je in ontwerpopdracht 3 zelf ontworpen hebt af te lezen.\n",
    "\n",
    "### Groepswerk\n",
    "Deze opdracht doe je in groepen van 3 studenten. Je kan je groepsnummer en je medestudenten vinden op Brightspace onder Groups: ontwerpopdracht 6: Maak een microscoop. Geef weer hier in Vocareum, via de knop 'Send Invite' je groepsgenoten aan zodat jullie gezamelijk in dezelfde notebook kunnen werken. Uiteindelijk lever je dit notebook als groep in via vocareum door op submit te klikken.\n",
    "\n",
    "Als je groep om 11.00 niet compleet is, trek dan aan de bel door je TA erbij te roepen. Wij komen dan kijken wie er mist en schuiven met studenten in incomplete groepen om jullie in volledige groepen te krijgen.\n",
    "\n",
    "\n",
    "### Groep informatie\n",
    "\n",
    "Aan het einde van deze ontwerpopdracht lever je als groep één gezamenlijk notebook in (zowel notebook als pdf versie). Zet jullie studienummers en namen in onderstaande tabel zodat wij zeker weten dat het groepsvormen goed is gegaan.\n",
    "\n",
    "| Groep: XX     |  |\n",
    "| :-------------|:-------------|\n",
    "| Student naam 1| Student Studienummer 1 |\n",
    "| Student naam 2| Student Studienummer 2 |\n",
    "| Student naam 3| Student Studienummer 3 |"
   ]
  },
  {
   "cell_type": "markdown",
   "metadata": {
    "nbgrader": {
     "grade": false,
     "locked": true,
     "solution": false
    }
   },
   "source": [
    "## Zelf ontwerp proces inrichten\n",
    "Je gaat deze laatste ontwerpopdracht zelf je ontwerpproces inrichten. Denk daarbij goed aan alles wat je de afgelopen weken geleerd hebt en hoe we de notebooks opbouwden om aan het einde van de dag aan ons duidelijk te maken welke stappen je doorlopen hebt. Hieronder voeg je zelf tekst en/of code cellen toe om ons mee te nemen door het ontwerpproces dat jullie vandaag eerst bedenken en dan uitvoeren. Zet bij elke cel die je toevoegd daarom duidelijk hoe laat je deze cell toevoegd. \n",
    "\n",
    "We gaan vandaag, natuurlijk, weer kijken of jullie de leerdoelen van vandaag onder de knie hebben. Vandaag zijn dat, heel toepasselijk: 'Design', 'Engineering' en 'Fysica'. Daarnaast moet je documentatie natuurlijk in orde zijn.\n",
    "\n",
    "- Design: Hebben jullie je kennis van ontwerpen toegepast en dat aan ons duidelijk gemaakt?\n",
    "- Engineering: Hebben jullie als ingenieurs een werkend product opgeleverd en dat aan ons duidelijk gemaakt?\n",
    "- Fysica: Hebben jullie je kennis van natuurkunde toegepast en dat aan ons duidelijk gemaakt?\n",
    "- Documentatie: Hebben jullie je proces van de dag gedocumenteerd en daarbij de regels die je over documenteren bij het practicum geleerd hebt toegepast?\n",
    "\n",
    "Maak als groep voordat je begint een plan voor hoe je aan het einde van de dag gaat laten zien dat je deze leerdoelen onder de knie hebt. Stel hierbij een tijdsplan op waarin staat hoelaat de fysica en het ontwerp goedgekeurd moeten zijn door je TA en wanneer je uiterlijk begint met bouwen. **Vul dat in onderstaande cel in en laat dat aan je TA zien.** Dit aan het begin goed doen zorgt ervoor dat we kleinere kans hebben dat we als de dag al klaar is nog om een verbetering hoeven te vragen.  "
   ]
  },
  {
   "cell_type": "markdown",
   "metadata": {},
   "source": [
    "## Design\n",
    "We gaan laten zien dat we onze kennis van ontwerpen toegepast hebben door [jullie tekst]\n",
    "\n",
    "## Engineering\n",
    "We gaan laten zien dat we als ingenieurs een werkend product opgeleverd hebben door [jullie tekst]\n",
    "\n",
    "## Fysica\n",
    "We gaan laten zien dat we onze kennis van natuurkunde toegepast hebben door: [jullie tekst]\n",
    "\n",
    "#### Documentatie\n",
    "We gaan alle documentatie aanleveren zoals we geleerd hebben bij het Natuurkundig practicum en bij DEF."
   ]
  },
  {
   "cell_type": "markdown",
   "metadata": {
    "nbgrader": {
     "grade": false,
     "locked": true,
     "solution": false
    }
   },
   "source": [
    "De twee cellen hieronder bevatten handige markdown en python dingen die je mogelijk wilt gebruiken.\n"
   ]
  },
  {
   "cell_type": "markdown",
   "metadata": {},
   "source": [
    "# Een kop\n",
    "maak je in markdown door een # te gebruiken, hoe meer ## hoe kleiner de kop.\n",
    "\n",
    "## zo dus.\n",
    "\n",
    "Een tabel:\n",
    "\n",
    "| tabelkop      | tweede kop   |\n",
    "| :-------------|:-------------|\n",
    "| inhoud        | inhoud2      |\n",
    "\n",
    "Een figuur of foto voeg je in met deze code:\n",
    "\n",
    "<img src=\"designCycle.jpg\" width=\"600\">\n",
    "Voorzie een foto altijd van een kort stukje toelichtende tekst.\n",
    "\n",
    "Een bullet list maak je met\n",
    "\n",
    "- eerste item\n",
    "- tweede item\n",
    "\n",
    "Een grafiek in Markdown kan je als Latex invoegen wanneer je iets tussen $ tekens zet: \n",
    "\n",
    "$\\LaTeX$\n",
    "\n",
    "$\\frac{1}{f} = \\frac{1}{b} + \\frac{1}{v}$\n",
    "\n",
    "Verder is een handig truckje om snel cellen in te voegen in Markdown: druk op de escape toets, en daarna op de 'a' (above) wanneer je cel boven de huidige cel wilt en op de 'b' (below) wanneer je een cel onder de huidige cel wilt toevoegen. Als de cel geselecteerd is kan je met 'y' het type van de cel wijzigen naar 'code' en met 'm' naar 'Markdown' (text). Als de cel geselecteerd is kan je met 'enter' de cel ingaan en er in typen."
   ]
  },
  {
   "cell_type": "code",
   "execution_count": null,
   "metadata": {
    "collapsed": true
   },
   "outputs": [],
   "source": [
    "%matplotlib inline\n",
    "#denk aan alles wat je bij het NP geleerd hebt en alle feedback die je bij DEF gehad hebt!\n"
   ]
  },
  {
   "cell_type": "markdown",
   "metadata": {
    "nbgrader": {
     "grade": false,
     "locked": true,
     "solution": false
    }
   },
   "source": [
    "## Resultaat 'het werkt'\n",
    "Zet in de cel hieronder twee foto's:\n",
    "\n",
    "- een foto waarbij je twee foto's aan elkaar plakt: De twee foto's neem je met je camera / telefoon en het object op dezelfde plek. Het verschil tussen de foto's is dat je microscoop er wel/niet tussen zit. Op deze manier kunnen we goed beoordelen wat de vergroting van je microscoop is. Zorg er dus ook voor dat je niet in de ene foto wel inzoomt en de andere foto niet! Om foto's aan elkaar te plakken kan je apps zoals 'Layout' gebruiken. De twee originele foto's moet je op Brightspace inleveren zonder dat deze aangepast zijn! \n",
    "- een foto van de gehele microscoop waarmee wij kunnen beoordelen hoe goed je opstelling in elkaar zit."
   ]
  },
  {
   "cell_type": "markdown",
   "metadata": {},
   "source": [
    "<img src=\"designCycle.jpg\" width=\"600\">\n",
    "<img src=\"designCycle.jpg\" width=\"600\">"
   ]
  },
  {
   "cell_type": "markdown",
   "metadata": {
    "nbgrader": {
     "grade": false,
     "locked": true,
     "solution": false
    }
   },
   "source": [
    "## Resultaat leerdoel Design\n",
    "Voeg hieronder de cellen in die laten zien dat jullie leerdoel Design beheersen"
   ]
  },
  {
   "cell_type": "markdown",
   "metadata": {
    "nbgrader": {
     "grade": false,
     "locked": true,
     "solution": false
    }
   },
   "source": [
    "## Resultaat leerdoel Engineering\n",
    "Voeg hieronder de cellen in die laten zien dat jullie leerdoel Engineering beheersen."
   ]
  },
  {
   "cell_type": "markdown",
   "metadata": {
    "nbgrader": {
     "grade": false,
     "locked": true,
     "solution": false
    }
   },
   "source": [
    "## Resultaat leerdoel Fysica\n",
    "Voeg hieronder de cellen in die laten zien dat jullie leerdoel Fysica beheersen."
   ]
  },
  {
   "cell_type": "markdown",
   "metadata": {},
   "source": [
    "## Inleveren.\n",
    "\n",
    "Controleer eerst nog goed of alles klopt. **Klik boven op Kernel -> Restart and Run all** en check of er geen errors zijn. Zorg dat alle benodigde bestanden zijn geupload in vocareum en dat de afbeeldingen zichtbaar zijn in het notebook. \n",
    "\n",
    "Als je helemaal klaar bent kan het notebook worden ingeleverd door bovenaan op submit te klikken. Je kan meerdere keren iets inleveren en alleen de laatste versie wordt bewaard. Na de deadline is het niet meer mogelijk om in te leveren."
   ]
  }
 ],
 "metadata": {
  "kernelspec": {
   "display_name": "Python 3 (ipykernel)",
   "language": "python",
   "name": "python3"
  },
  "language_info": {
   "codemirror_mode": {
    "name": "ipython",
    "version": 3
   },
   "file_extension": ".py",
   "mimetype": "text/x-python",
   "name": "python",
   "nbconvert_exporter": "python",
   "pygments_lexer": "ipython3",
   "version": "3.5.2"
  }
 },
 "nbformat": 4,
 "nbformat_minor": 2
}
