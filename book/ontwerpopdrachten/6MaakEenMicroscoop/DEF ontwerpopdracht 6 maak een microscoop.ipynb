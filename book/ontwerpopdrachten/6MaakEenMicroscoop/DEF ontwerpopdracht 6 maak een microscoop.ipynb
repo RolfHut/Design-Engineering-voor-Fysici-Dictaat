{
 "cells": [
  {
   "cell_type": "markdown",
   "metadata": {
    "nbgrader": {
     "grade": false,
     "locked": false,
     "solution": false
    }
   },
   "source": [
    "# DEF ontwerpopdracht: Maak een microscoop\n",
    "| Groep: XX     |  |\n",
    "| :-------------|:-------------|\n",
    "| Student naam 1| Student Studienummer 1 |\n",
    "| Student naam 2| Student Studienummer 2 |\n",
    "| Student naam 3| Student Studienummer 3 |"
   ]
  },
  {
   "cell_type": "markdown",
   "metadata": {
    "nbgrader": {
     "grade": false,
     "locked": true,
     "solution": false
    }
   },
   "source": ["Opdracht 1: Proces inrichten."
    ]
  },
  {
   "cell_type": "markdown",
   "metadata": {},
   "source": [
    "## Design\n",
    "We gaan laten zien dat we onze kennis van ontwerpen toegepast hebben door [jullie tekst]\n",
    "\n",
    "## Engineering\n",
    "We gaan laten zien dat we als ingenieurs een werkend product opgeleverd hebben door [jullie tekst]\n",
    "\n",
    "## Fysica\n",
    "We gaan laten zien dat we onze kennis van natuurkunde toegepast hebben door: [jullie tekst]\n",
    "\n",
    "#### Documentatie\n",
    "We gaan alle documentatie aanleveren zoals we geleerd hebben bij het Natuurkundig practicum en bij DEF."
   ]
  },
  {
   "cell_type": "markdown",
   "metadata": {
    "nbgrader": {
     "grade": false,
     "locked": true,
     "solution": false
    }
   },
   "source": [
    "De twee cellen hieronder bevatten handige markdown en python dingen die je mogelijk wilt gebruiken.\n"
   ]
  },
  {
   "cell_type": "markdown",
   "metadata": {},
   "source": [
    "# Een kop\n",
    "maak je in markdown door een # te gebruiken, hoe meer ## hoe kleiner de kop.\n",
    "\n",
    "## zo dus.\n",
    "\n",
    "Een tabel:\n",
    "\n",
    "| tabelkop      | tweede kop   |\n",
    "| :-------------|:-------------|\n",
    "| inhoud        | inhoud2      |\n",
    "\n",
    "Een figuur of foto voeg je in met deze code:\n",
    "\n",
    "<img src=\"designCycle.jpg\" width=\"600\">\n",
    "Voorzie een foto altijd van een kort stukje toelichtende tekst.\n",
    "\n",
    "Een bullet list maak je met\n",
    "\n",
    "- eerste item\n",
    "- tweede item\n",
    "\n",
    "Een grafiek in Markdown kan je als Latex invoegen wanneer je iets tussen $ tekens zet: \n",
    "\n",
    "$\\LaTeX$\n",
    "\n",
    "$\\frac{1}{f} = \\frac{1}{b} + \\frac{1}{v}$\n",
    "\n",
    "Verder is een handig truckje om snel cellen in te voegen in Markdown: druk op de escape toets, en daarna op de 'a' (above) wanneer je cel boven de huidige cel wilt en op de 'b' (below) wanneer je een cel onder de huidige cel wilt toevoegen. Als de cel geselecteerd is kan je met 'y' het type van de cel wijzigen naar 'code' en met 'm' naar 'Markdown' (text). Als de cel geselecteerd is kan je met 'enter' de cel ingaan en er in typen."
   ]
  },
  {
   "cell_type": "code",
   "execution_count": null,
   "metadata": {
    "collapsed": true
   },
   "outputs": [],
   "source": [
    "%matplotlib inline\n",
    "#denk aan alles wat je bij het NP geleerd hebt en alle feedback die je bij DEF gehad hebt!\n"
   ]
  },
  {
   "cell_type": "markdown",
   "metadata": {
    "nbgrader": {
     "grade": false,
     "locked": true,
     "solution": false
    }
   },
   "source": [
    "# Opdracht2: Het werkt."]
  },
  {
   "cell_type": "markdown",
   "metadata": {},
   "source": [
    "<img src=\"designCycle.jpg\" width=\"600\">\n",
    "<img src=\"designCycle.jpg\" width=\"600\">"
   ]
  },
  {
   "cell_type": "markdown",
   "metadata": {
    "nbgrader": {
     "grade": false,
     "locked": true,
     "solution": false
    }
   },
   "source": [
    "## Resultaat leerdoel Design\n",
    "Voeg hieronder de cellen in die laten zien dat jullie leerdoel Design beheersen"
   ]
  },
  {
   "cell_type": "markdown",
   "metadata": {
    "nbgrader": {
     "grade": false,
     "locked": true,
     "solution": false
    }
   },
   "source": [
    "## Resultaat leerdoel Engineering\n",
    "Voeg hieronder de cellen in die laten zien dat jullie leerdoel Engineering beheersen."
   ]
  },
  {
   "cell_type": "markdown",
   "metadata": {
    "nbgrader": {
     "grade": false,
     "locked": true,
     "solution": false
    }
   },
   "source": [
    "## Resultaat leerdoel Fysica\n",
    "Voeg hieronder de cellen in die laten zien dat jullie leerdoel Fysica beheersen."
   ]
  },
  {
   "cell_type": "markdown",
   "metadata": {},
   "source": [
    ]
  }
 ],
 "metadata": {
  "kernelspec": {
   "display_name": "Python 3 (ipykernel)",
   "language": "python",
   "name": "python3"
  },
  "language_info": {
   "codemirror_mode": {
    "name": "ipython",
    "version": 3
   },
   "file_extension": ".py",
   "mimetype": "text/x-python",
   "name": "python",
   "nbconvert_exporter": "python",
   "pygments_lexer": "ipython3",
   "version": "3.5.2"
  }
 },
 "nbformat": 4,
 "nbformat_minor": 2
}
